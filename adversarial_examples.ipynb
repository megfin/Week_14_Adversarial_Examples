{
  "nbformat": 4,
  "nbformat_minor": 0,
  "metadata": {
    "kernelspec": {
      "display_name": "Python 3",
      "language": "python",
      "name": "python3"
    },
    "language_info": {
      "codemirror_mode": {
        "name": "ipython",
        "version": 3
      },
      "file_extension": ".py",
      "mimetype": "text/x-python",
      "name": "python",
      "nbconvert_exporter": "python",
      "pygments_lexer": "ipython3",
      "version": "3.7.7"
    },
    "colab": {
      "name": "adversarial_examples.ipynb",
      "provenance": [],
      "collapsed_sections": []
    },
    "accelerator": "GPU",
    "widgets": {
      "application/vnd.jupyter.widget-state+json": {
        "526f90c8db9c458b9fb496ce2dcb2985": {
          "model_module": "@jupyter-widgets/controls",
          "model_name": "HBoxModel",
          "state": {
            "_view_name": "HBoxView",
            "_dom_classes": [],
            "_model_name": "HBoxModel",
            "_view_module": "@jupyter-widgets/controls",
            "_model_module_version": "1.5.0",
            "_view_count": null,
            "_view_module_version": "1.5.0",
            "box_style": "",
            "layout": "IPY_MODEL_e847f43d60364269b0b2511493f66c3e",
            "_model_module": "@jupyter-widgets/controls",
            "children": [
              "IPY_MODEL_dabb1d67b4e0469db608609471e27f4c",
              "IPY_MODEL_736e8111672142bd99bb07adff877314"
            ]
          }
        },
        "e847f43d60364269b0b2511493f66c3e": {
          "model_module": "@jupyter-widgets/base",
          "model_name": "LayoutModel",
          "state": {
            "_view_name": "LayoutView",
            "grid_template_rows": null,
            "right": null,
            "justify_content": null,
            "_view_module": "@jupyter-widgets/base",
            "overflow": null,
            "_model_module_version": "1.2.0",
            "_view_count": null,
            "flex_flow": null,
            "width": null,
            "min_width": null,
            "border": null,
            "align_items": null,
            "bottom": null,
            "_model_module": "@jupyter-widgets/base",
            "top": null,
            "grid_column": null,
            "overflow_y": null,
            "overflow_x": null,
            "grid_auto_flow": null,
            "grid_area": null,
            "grid_template_columns": null,
            "flex": null,
            "_model_name": "LayoutModel",
            "justify_items": null,
            "grid_row": null,
            "max_height": null,
            "align_content": null,
            "visibility": null,
            "align_self": null,
            "height": null,
            "min_height": null,
            "padding": null,
            "grid_auto_rows": null,
            "grid_gap": null,
            "max_width": null,
            "order": null,
            "_view_module_version": "1.2.0",
            "grid_template_areas": null,
            "object_position": null,
            "object_fit": null,
            "grid_auto_columns": null,
            "margin": null,
            "display": null,
            "left": null
          }
        },
        "dabb1d67b4e0469db608609471e27f4c": {
          "model_module": "@jupyter-widgets/controls",
          "model_name": "IntProgressModel",
          "state": {
            "_view_name": "ProgressView",
            "style": "IPY_MODEL_751647dd86684c21aa853c8eca8fc475",
            "_dom_classes": [],
            "description": "",
            "_model_name": "IntProgressModel",
            "bar_style": "info",
            "max": 1,
            "_view_module": "@jupyter-widgets/controls",
            "_model_module_version": "1.5.0",
            "value": 1,
            "_view_count": null,
            "_view_module_version": "1.5.0",
            "orientation": "horizontal",
            "min": 0,
            "description_tooltip": null,
            "_model_module": "@jupyter-widgets/controls",
            "layout": "IPY_MODEL_c457b573fc534470a5016fd9273374ef"
          }
        },
        "736e8111672142bd99bb07adff877314": {
          "model_module": "@jupyter-widgets/controls",
          "model_name": "HTMLModel",
          "state": {
            "_view_name": "HTMLView",
            "style": "IPY_MODEL_605b88a7a5614c219a64490c58b596fb",
            "_dom_classes": [],
            "description": "",
            "_model_name": "HTMLModel",
            "placeholder": "​",
            "_view_module": "@jupyter-widgets/controls",
            "_model_module_version": "1.5.0",
            "value": " 9920512/? [00:20&lt;00:00, 35269197.18it/s]",
            "_view_count": null,
            "_view_module_version": "1.5.0",
            "description_tooltip": null,
            "_model_module": "@jupyter-widgets/controls",
            "layout": "IPY_MODEL_7093f651ef9d432da1b73118ac3022e4"
          }
        },
        "751647dd86684c21aa853c8eca8fc475": {
          "model_module": "@jupyter-widgets/controls",
          "model_name": "ProgressStyleModel",
          "state": {
            "_view_name": "StyleView",
            "_model_name": "ProgressStyleModel",
            "description_width": "initial",
            "_view_module": "@jupyter-widgets/base",
            "_model_module_version": "1.5.0",
            "_view_count": null,
            "_view_module_version": "1.2.0",
            "bar_color": null,
            "_model_module": "@jupyter-widgets/controls"
          }
        },
        "c457b573fc534470a5016fd9273374ef": {
          "model_module": "@jupyter-widgets/base",
          "model_name": "LayoutModel",
          "state": {
            "_view_name": "LayoutView",
            "grid_template_rows": null,
            "right": null,
            "justify_content": null,
            "_view_module": "@jupyter-widgets/base",
            "overflow": null,
            "_model_module_version": "1.2.0",
            "_view_count": null,
            "flex_flow": null,
            "width": null,
            "min_width": null,
            "border": null,
            "align_items": null,
            "bottom": null,
            "_model_module": "@jupyter-widgets/base",
            "top": null,
            "grid_column": null,
            "overflow_y": null,
            "overflow_x": null,
            "grid_auto_flow": null,
            "grid_area": null,
            "grid_template_columns": null,
            "flex": null,
            "_model_name": "LayoutModel",
            "justify_items": null,
            "grid_row": null,
            "max_height": null,
            "align_content": null,
            "visibility": null,
            "align_self": null,
            "height": null,
            "min_height": null,
            "padding": null,
            "grid_auto_rows": null,
            "grid_gap": null,
            "max_width": null,
            "order": null,
            "_view_module_version": "1.2.0",
            "grid_template_areas": null,
            "object_position": null,
            "object_fit": null,
            "grid_auto_columns": null,
            "margin": null,
            "display": null,
            "left": null
          }
        },
        "605b88a7a5614c219a64490c58b596fb": {
          "model_module": "@jupyter-widgets/controls",
          "model_name": "DescriptionStyleModel",
          "state": {
            "_view_name": "StyleView",
            "_model_name": "DescriptionStyleModel",
            "description_width": "",
            "_view_module": "@jupyter-widgets/base",
            "_model_module_version": "1.5.0",
            "_view_count": null,
            "_view_module_version": "1.2.0",
            "_model_module": "@jupyter-widgets/controls"
          }
        },
        "7093f651ef9d432da1b73118ac3022e4": {
          "model_module": "@jupyter-widgets/base",
          "model_name": "LayoutModel",
          "state": {
            "_view_name": "LayoutView",
            "grid_template_rows": null,
            "right": null,
            "justify_content": null,
            "_view_module": "@jupyter-widgets/base",
            "overflow": null,
            "_model_module_version": "1.2.0",
            "_view_count": null,
            "flex_flow": null,
            "width": null,
            "min_width": null,
            "border": null,
            "align_items": null,
            "bottom": null,
            "_model_module": "@jupyter-widgets/base",
            "top": null,
            "grid_column": null,
            "overflow_y": null,
            "overflow_x": null,
            "grid_auto_flow": null,
            "grid_area": null,
            "grid_template_columns": null,
            "flex": null,
            "_model_name": "LayoutModel",
            "justify_items": null,
            "grid_row": null,
            "max_height": null,
            "align_content": null,
            "visibility": null,
            "align_self": null,
            "height": null,
            "min_height": null,
            "padding": null,
            "grid_auto_rows": null,
            "grid_gap": null,
            "max_width": null,
            "order": null,
            "_view_module_version": "1.2.0",
            "grid_template_areas": null,
            "object_position": null,
            "object_fit": null,
            "grid_auto_columns": null,
            "margin": null,
            "display": null,
            "left": null
          }
        },
        "09cb71553fbc4685a8b81c90863d6a9c": {
          "model_module": "@jupyter-widgets/controls",
          "model_name": "HBoxModel",
          "state": {
            "_view_name": "HBoxView",
            "_dom_classes": [],
            "_model_name": "HBoxModel",
            "_view_module": "@jupyter-widgets/controls",
            "_model_module_version": "1.5.0",
            "_view_count": null,
            "_view_module_version": "1.5.0",
            "box_style": "",
            "layout": "IPY_MODEL_9c87de586556445b8b5bfd1faa661334",
            "_model_module": "@jupyter-widgets/controls",
            "children": [
              "IPY_MODEL_ef6995456d5a42d18199ed47353cd4d7",
              "IPY_MODEL_607f131132b343b092fb803dd6ff38d7"
            ]
          }
        },
        "9c87de586556445b8b5bfd1faa661334": {
          "model_module": "@jupyter-widgets/base",
          "model_name": "LayoutModel",
          "state": {
            "_view_name": "LayoutView",
            "grid_template_rows": null,
            "right": null,
            "justify_content": null,
            "_view_module": "@jupyter-widgets/base",
            "overflow": null,
            "_model_module_version": "1.2.0",
            "_view_count": null,
            "flex_flow": null,
            "width": null,
            "min_width": null,
            "border": null,
            "align_items": null,
            "bottom": null,
            "_model_module": "@jupyter-widgets/base",
            "top": null,
            "grid_column": null,
            "overflow_y": null,
            "overflow_x": null,
            "grid_auto_flow": null,
            "grid_area": null,
            "grid_template_columns": null,
            "flex": null,
            "_model_name": "LayoutModel",
            "justify_items": null,
            "grid_row": null,
            "max_height": null,
            "align_content": null,
            "visibility": null,
            "align_self": null,
            "height": null,
            "min_height": null,
            "padding": null,
            "grid_auto_rows": null,
            "grid_gap": null,
            "max_width": null,
            "order": null,
            "_view_module_version": "1.2.0",
            "grid_template_areas": null,
            "object_position": null,
            "object_fit": null,
            "grid_auto_columns": null,
            "margin": null,
            "display": null,
            "left": null
          }
        },
        "ef6995456d5a42d18199ed47353cd4d7": {
          "model_module": "@jupyter-widgets/controls",
          "model_name": "IntProgressModel",
          "state": {
            "_view_name": "ProgressView",
            "style": "IPY_MODEL_9a9619dce0e64ea5ac801fa4e0ea9787",
            "_dom_classes": [],
            "description": "",
            "_model_name": "IntProgressModel",
            "bar_style": "info",
            "max": 1,
            "_view_module": "@jupyter-widgets/controls",
            "_model_module_version": "1.5.0",
            "value": 1,
            "_view_count": null,
            "_view_module_version": "1.5.0",
            "orientation": "horizontal",
            "min": 0,
            "description_tooltip": null,
            "_model_module": "@jupyter-widgets/controls",
            "layout": "IPY_MODEL_7a94acfb7f3c453bbe39368ab1fefca0"
          }
        },
        "607f131132b343b092fb803dd6ff38d7": {
          "model_module": "@jupyter-widgets/controls",
          "model_name": "HTMLModel",
          "state": {
            "_view_name": "HTMLView",
            "style": "IPY_MODEL_717433bd368f411cb043a51abedf037c",
            "_dom_classes": [],
            "description": "",
            "_model_name": "HTMLModel",
            "placeholder": "​",
            "_view_module": "@jupyter-widgets/controls",
            "_model_module_version": "1.5.0",
            "value": " 32768/? [00:19&lt;00:00, 153194.72it/s]",
            "_view_count": null,
            "_view_module_version": "1.5.0",
            "description_tooltip": null,
            "_model_module": "@jupyter-widgets/controls",
            "layout": "IPY_MODEL_89fdf18d3cb747bfb444caee99a51999"
          }
        },
        "9a9619dce0e64ea5ac801fa4e0ea9787": {
          "model_module": "@jupyter-widgets/controls",
          "model_name": "ProgressStyleModel",
          "state": {
            "_view_name": "StyleView",
            "_model_name": "ProgressStyleModel",
            "description_width": "initial",
            "_view_module": "@jupyter-widgets/base",
            "_model_module_version": "1.5.0",
            "_view_count": null,
            "_view_module_version": "1.2.0",
            "bar_color": null,
            "_model_module": "@jupyter-widgets/controls"
          }
        },
        "7a94acfb7f3c453bbe39368ab1fefca0": {
          "model_module": "@jupyter-widgets/base",
          "model_name": "LayoutModel",
          "state": {
            "_view_name": "LayoutView",
            "grid_template_rows": null,
            "right": null,
            "justify_content": null,
            "_view_module": "@jupyter-widgets/base",
            "overflow": null,
            "_model_module_version": "1.2.0",
            "_view_count": null,
            "flex_flow": null,
            "width": null,
            "min_width": null,
            "border": null,
            "align_items": null,
            "bottom": null,
            "_model_module": "@jupyter-widgets/base",
            "top": null,
            "grid_column": null,
            "overflow_y": null,
            "overflow_x": null,
            "grid_auto_flow": null,
            "grid_area": null,
            "grid_template_columns": null,
            "flex": null,
            "_model_name": "LayoutModel",
            "justify_items": null,
            "grid_row": null,
            "max_height": null,
            "align_content": null,
            "visibility": null,
            "align_self": null,
            "height": null,
            "min_height": null,
            "padding": null,
            "grid_auto_rows": null,
            "grid_gap": null,
            "max_width": null,
            "order": null,
            "_view_module_version": "1.2.0",
            "grid_template_areas": null,
            "object_position": null,
            "object_fit": null,
            "grid_auto_columns": null,
            "margin": null,
            "display": null,
            "left": null
          }
        },
        "717433bd368f411cb043a51abedf037c": {
          "model_module": "@jupyter-widgets/controls",
          "model_name": "DescriptionStyleModel",
          "state": {
            "_view_name": "StyleView",
            "_model_name": "DescriptionStyleModel",
            "description_width": "",
            "_view_module": "@jupyter-widgets/base",
            "_model_module_version": "1.5.0",
            "_view_count": null,
            "_view_module_version": "1.2.0",
            "_model_module": "@jupyter-widgets/controls"
          }
        },
        "89fdf18d3cb747bfb444caee99a51999": {
          "model_module": "@jupyter-widgets/base",
          "model_name": "LayoutModel",
          "state": {
            "_view_name": "LayoutView",
            "grid_template_rows": null,
            "right": null,
            "justify_content": null,
            "_view_module": "@jupyter-widgets/base",
            "overflow": null,
            "_model_module_version": "1.2.0",
            "_view_count": null,
            "flex_flow": null,
            "width": null,
            "min_width": null,
            "border": null,
            "align_items": null,
            "bottom": null,
            "_model_module": "@jupyter-widgets/base",
            "top": null,
            "grid_column": null,
            "overflow_y": null,
            "overflow_x": null,
            "grid_auto_flow": null,
            "grid_area": null,
            "grid_template_columns": null,
            "flex": null,
            "_model_name": "LayoutModel",
            "justify_items": null,
            "grid_row": null,
            "max_height": null,
            "align_content": null,
            "visibility": null,
            "align_self": null,
            "height": null,
            "min_height": null,
            "padding": null,
            "grid_auto_rows": null,
            "grid_gap": null,
            "max_width": null,
            "order": null,
            "_view_module_version": "1.2.0",
            "grid_template_areas": null,
            "object_position": null,
            "object_fit": null,
            "grid_auto_columns": null,
            "margin": null,
            "display": null,
            "left": null
          }
        },
        "8a5a0f8d50394ce6b569383cbc24cd89": {
          "model_module": "@jupyter-widgets/controls",
          "model_name": "HBoxModel",
          "state": {
            "_view_name": "HBoxView",
            "_dom_classes": [],
            "_model_name": "HBoxModel",
            "_view_module": "@jupyter-widgets/controls",
            "_model_module_version": "1.5.0",
            "_view_count": null,
            "_view_module_version": "1.5.0",
            "box_style": "",
            "layout": "IPY_MODEL_e71da5e01f93485e94fa28291448a6c2",
            "_model_module": "@jupyter-widgets/controls",
            "children": [
              "IPY_MODEL_0f4302fd2eae47148708d96fd88e4ecc",
              "IPY_MODEL_01ebb28b74084d70b812ab7b69dbdcc9"
            ]
          }
        },
        "e71da5e01f93485e94fa28291448a6c2": {
          "model_module": "@jupyter-widgets/base",
          "model_name": "LayoutModel",
          "state": {
            "_view_name": "LayoutView",
            "grid_template_rows": null,
            "right": null,
            "justify_content": null,
            "_view_module": "@jupyter-widgets/base",
            "overflow": null,
            "_model_module_version": "1.2.0",
            "_view_count": null,
            "flex_flow": null,
            "width": null,
            "min_width": null,
            "border": null,
            "align_items": null,
            "bottom": null,
            "_model_module": "@jupyter-widgets/base",
            "top": null,
            "grid_column": null,
            "overflow_y": null,
            "overflow_x": null,
            "grid_auto_flow": null,
            "grid_area": null,
            "grid_template_columns": null,
            "flex": null,
            "_model_name": "LayoutModel",
            "justify_items": null,
            "grid_row": null,
            "max_height": null,
            "align_content": null,
            "visibility": null,
            "align_self": null,
            "height": null,
            "min_height": null,
            "padding": null,
            "grid_auto_rows": null,
            "grid_gap": null,
            "max_width": null,
            "order": null,
            "_view_module_version": "1.2.0",
            "grid_template_areas": null,
            "object_position": null,
            "object_fit": null,
            "grid_auto_columns": null,
            "margin": null,
            "display": null,
            "left": null
          }
        },
        "0f4302fd2eae47148708d96fd88e4ecc": {
          "model_module": "@jupyter-widgets/controls",
          "model_name": "IntProgressModel",
          "state": {
            "_view_name": "ProgressView",
            "style": "IPY_MODEL_0e73608b928f41cca77e9bf03e7370f2",
            "_dom_classes": [],
            "description": "",
            "_model_name": "IntProgressModel",
            "bar_style": "info",
            "max": 1,
            "_view_module": "@jupyter-widgets/controls",
            "_model_module_version": "1.5.0",
            "value": 1,
            "_view_count": null,
            "_view_module_version": "1.5.0",
            "orientation": "horizontal",
            "min": 0,
            "description_tooltip": null,
            "_model_module": "@jupyter-widgets/controls",
            "layout": "IPY_MODEL_634c8b9f576546288feba6d12a0f4735"
          }
        },
        "01ebb28b74084d70b812ab7b69dbdcc9": {
          "model_module": "@jupyter-widgets/controls",
          "model_name": "HTMLModel",
          "state": {
            "_view_name": "HTMLView",
            "style": "IPY_MODEL_2bcf0f3dc9294173b8f5ef62e7783fe0",
            "_dom_classes": [],
            "description": "",
            "_model_name": "HTMLModel",
            "placeholder": "​",
            "_view_module": "@jupyter-widgets/controls",
            "_model_module_version": "1.5.0",
            "value": " 1654784/? [00:19&lt;00:00, 148544.43it/s]",
            "_view_count": null,
            "_view_module_version": "1.5.0",
            "description_tooltip": null,
            "_model_module": "@jupyter-widgets/controls",
            "layout": "IPY_MODEL_ceec366cfab34315ba4d2a0995caa69d"
          }
        },
        "0e73608b928f41cca77e9bf03e7370f2": {
          "model_module": "@jupyter-widgets/controls",
          "model_name": "ProgressStyleModel",
          "state": {
            "_view_name": "StyleView",
            "_model_name": "ProgressStyleModel",
            "description_width": "initial",
            "_view_module": "@jupyter-widgets/base",
            "_model_module_version": "1.5.0",
            "_view_count": null,
            "_view_module_version": "1.2.0",
            "bar_color": null,
            "_model_module": "@jupyter-widgets/controls"
          }
        },
        "634c8b9f576546288feba6d12a0f4735": {
          "model_module": "@jupyter-widgets/base",
          "model_name": "LayoutModel",
          "state": {
            "_view_name": "LayoutView",
            "grid_template_rows": null,
            "right": null,
            "justify_content": null,
            "_view_module": "@jupyter-widgets/base",
            "overflow": null,
            "_model_module_version": "1.2.0",
            "_view_count": null,
            "flex_flow": null,
            "width": null,
            "min_width": null,
            "border": null,
            "align_items": null,
            "bottom": null,
            "_model_module": "@jupyter-widgets/base",
            "top": null,
            "grid_column": null,
            "overflow_y": null,
            "overflow_x": null,
            "grid_auto_flow": null,
            "grid_area": null,
            "grid_template_columns": null,
            "flex": null,
            "_model_name": "LayoutModel",
            "justify_items": null,
            "grid_row": null,
            "max_height": null,
            "align_content": null,
            "visibility": null,
            "align_self": null,
            "height": null,
            "min_height": null,
            "padding": null,
            "grid_auto_rows": null,
            "grid_gap": null,
            "max_width": null,
            "order": null,
            "_view_module_version": "1.2.0",
            "grid_template_areas": null,
            "object_position": null,
            "object_fit": null,
            "grid_auto_columns": null,
            "margin": null,
            "display": null,
            "left": null
          }
        },
        "2bcf0f3dc9294173b8f5ef62e7783fe0": {
          "model_module": "@jupyter-widgets/controls",
          "model_name": "DescriptionStyleModel",
          "state": {
            "_view_name": "StyleView",
            "_model_name": "DescriptionStyleModel",
            "description_width": "",
            "_view_module": "@jupyter-widgets/base",
            "_model_module_version": "1.5.0",
            "_view_count": null,
            "_view_module_version": "1.2.0",
            "_model_module": "@jupyter-widgets/controls"
          }
        },
        "ceec366cfab34315ba4d2a0995caa69d": {
          "model_module": "@jupyter-widgets/base",
          "model_name": "LayoutModel",
          "state": {
            "_view_name": "LayoutView",
            "grid_template_rows": null,
            "right": null,
            "justify_content": null,
            "_view_module": "@jupyter-widgets/base",
            "overflow": null,
            "_model_module_version": "1.2.0",
            "_view_count": null,
            "flex_flow": null,
            "width": null,
            "min_width": null,
            "border": null,
            "align_items": null,
            "bottom": null,
            "_model_module": "@jupyter-widgets/base",
            "top": null,
            "grid_column": null,
            "overflow_y": null,
            "overflow_x": null,
            "grid_auto_flow": null,
            "grid_area": null,
            "grid_template_columns": null,
            "flex": null,
            "_model_name": "LayoutModel",
            "justify_items": null,
            "grid_row": null,
            "max_height": null,
            "align_content": null,
            "visibility": null,
            "align_self": null,
            "height": null,
            "min_height": null,
            "padding": null,
            "grid_auto_rows": null,
            "grid_gap": null,
            "max_width": null,
            "order": null,
            "_view_module_version": "1.2.0",
            "grid_template_areas": null,
            "object_position": null,
            "object_fit": null,
            "grid_auto_columns": null,
            "margin": null,
            "display": null,
            "left": null
          }
        },
        "1d87ac080ef841adaeee0cedd2f6a61e": {
          "model_module": "@jupyter-widgets/controls",
          "model_name": "HBoxModel",
          "state": {
            "_view_name": "HBoxView",
            "_dom_classes": [],
            "_model_name": "HBoxModel",
            "_view_module": "@jupyter-widgets/controls",
            "_model_module_version": "1.5.0",
            "_view_count": null,
            "_view_module_version": "1.5.0",
            "box_style": "",
            "layout": "IPY_MODEL_27634b1f7bc84fab840d36ca661ea9a2",
            "_model_module": "@jupyter-widgets/controls",
            "children": [
              "IPY_MODEL_1909e6e43a114938b6db339bec768124",
              "IPY_MODEL_b2884696ea3a47a4a162ad73baeaa7dd"
            ]
          }
        },
        "27634b1f7bc84fab840d36ca661ea9a2": {
          "model_module": "@jupyter-widgets/base",
          "model_name": "LayoutModel",
          "state": {
            "_view_name": "LayoutView",
            "grid_template_rows": null,
            "right": null,
            "justify_content": null,
            "_view_module": "@jupyter-widgets/base",
            "overflow": null,
            "_model_module_version": "1.2.0",
            "_view_count": null,
            "flex_flow": null,
            "width": null,
            "min_width": null,
            "border": null,
            "align_items": null,
            "bottom": null,
            "_model_module": "@jupyter-widgets/base",
            "top": null,
            "grid_column": null,
            "overflow_y": null,
            "overflow_x": null,
            "grid_auto_flow": null,
            "grid_area": null,
            "grid_template_columns": null,
            "flex": null,
            "_model_name": "LayoutModel",
            "justify_items": null,
            "grid_row": null,
            "max_height": null,
            "align_content": null,
            "visibility": null,
            "align_self": null,
            "height": null,
            "min_height": null,
            "padding": null,
            "grid_auto_rows": null,
            "grid_gap": null,
            "max_width": null,
            "order": null,
            "_view_module_version": "1.2.0",
            "grid_template_areas": null,
            "object_position": null,
            "object_fit": null,
            "grid_auto_columns": null,
            "margin": null,
            "display": null,
            "left": null
          }
        },
        "1909e6e43a114938b6db339bec768124": {
          "model_module": "@jupyter-widgets/controls",
          "model_name": "IntProgressModel",
          "state": {
            "_view_name": "ProgressView",
            "style": "IPY_MODEL_bf06cc16281844229fde514ab0065e46",
            "_dom_classes": [],
            "description": "",
            "_model_name": "IntProgressModel",
            "bar_style": "info",
            "max": 1,
            "_view_module": "@jupyter-widgets/controls",
            "_model_module_version": "1.5.0",
            "value": 0,
            "_view_count": null,
            "_view_module_version": "1.5.0",
            "orientation": "horizontal",
            "min": 0,
            "description_tooltip": null,
            "_model_module": "@jupyter-widgets/controls",
            "layout": "IPY_MODEL_53ee47caeda6419c83bde6a9e1a538e4"
          }
        },
        "b2884696ea3a47a4a162ad73baeaa7dd": {
          "model_module": "@jupyter-widgets/controls",
          "model_name": "HTMLModel",
          "state": {
            "_view_name": "HTMLView",
            "style": "IPY_MODEL_abe9c2d63a3349ef9810a056c2855a57",
            "_dom_classes": [],
            "description": "",
            "_model_name": "HTMLModel",
            "placeholder": "​",
            "_view_module": "@jupyter-widgets/controls",
            "_model_module_version": "1.5.0",
            "value": " 0/? [00:00&lt;?, ?it/s]",
            "_view_count": null,
            "_view_module_version": "1.5.0",
            "description_tooltip": null,
            "_model_module": "@jupyter-widgets/controls",
            "layout": "IPY_MODEL_05185e8aa8254888890c771586bc5ae5"
          }
        },
        "bf06cc16281844229fde514ab0065e46": {
          "model_module": "@jupyter-widgets/controls",
          "model_name": "ProgressStyleModel",
          "state": {
            "_view_name": "StyleView",
            "_model_name": "ProgressStyleModel",
            "description_width": "initial",
            "_view_module": "@jupyter-widgets/base",
            "_model_module_version": "1.5.0",
            "_view_count": null,
            "_view_module_version": "1.2.0",
            "bar_color": null,
            "_model_module": "@jupyter-widgets/controls"
          }
        },
        "53ee47caeda6419c83bde6a9e1a538e4": {
          "model_module": "@jupyter-widgets/base",
          "model_name": "LayoutModel",
          "state": {
            "_view_name": "LayoutView",
            "grid_template_rows": null,
            "right": null,
            "justify_content": null,
            "_view_module": "@jupyter-widgets/base",
            "overflow": null,
            "_model_module_version": "1.2.0",
            "_view_count": null,
            "flex_flow": null,
            "width": null,
            "min_width": null,
            "border": null,
            "align_items": null,
            "bottom": null,
            "_model_module": "@jupyter-widgets/base",
            "top": null,
            "grid_column": null,
            "overflow_y": null,
            "overflow_x": null,
            "grid_auto_flow": null,
            "grid_area": null,
            "grid_template_columns": null,
            "flex": null,
            "_model_name": "LayoutModel",
            "justify_items": null,
            "grid_row": null,
            "max_height": null,
            "align_content": null,
            "visibility": null,
            "align_self": null,
            "height": null,
            "min_height": null,
            "padding": null,
            "grid_auto_rows": null,
            "grid_gap": null,
            "max_width": null,
            "order": null,
            "_view_module_version": "1.2.0",
            "grid_template_areas": null,
            "object_position": null,
            "object_fit": null,
            "grid_auto_columns": null,
            "margin": null,
            "display": null,
            "left": null
          }
        },
        "abe9c2d63a3349ef9810a056c2855a57": {
          "model_module": "@jupyter-widgets/controls",
          "model_name": "DescriptionStyleModel",
          "state": {
            "_view_name": "StyleView",
            "_model_name": "DescriptionStyleModel",
            "description_width": "",
            "_view_module": "@jupyter-widgets/base",
            "_model_module_version": "1.5.0",
            "_view_count": null,
            "_view_module_version": "1.2.0",
            "_model_module": "@jupyter-widgets/controls"
          }
        },
        "05185e8aa8254888890c771586bc5ae5": {
          "model_module": "@jupyter-widgets/base",
          "model_name": "LayoutModel",
          "state": {
            "_view_name": "LayoutView",
            "grid_template_rows": null,
            "right": null,
            "justify_content": null,
            "_view_module": "@jupyter-widgets/base",
            "overflow": null,
            "_model_module_version": "1.2.0",
            "_view_count": null,
            "flex_flow": null,
            "width": null,
            "min_width": null,
            "border": null,
            "align_items": null,
            "bottom": null,
            "_model_module": "@jupyter-widgets/base",
            "top": null,
            "grid_column": null,
            "overflow_y": null,
            "overflow_x": null,
            "grid_auto_flow": null,
            "grid_area": null,
            "grid_template_columns": null,
            "flex": null,
            "_model_name": "LayoutModel",
            "justify_items": null,
            "grid_row": null,
            "max_height": null,
            "align_content": null,
            "visibility": null,
            "align_self": null,
            "height": null,
            "min_height": null,
            "padding": null,
            "grid_auto_rows": null,
            "grid_gap": null,
            "max_width": null,
            "order": null,
            "_view_module_version": "1.2.0",
            "grid_template_areas": null,
            "object_position": null,
            "object_fit": null,
            "grid_auto_columns": null,
            "margin": null,
            "display": null,
            "left": null
          }
        }
      }
    }
  },
  "cells": [
    {
      "cell_type": "code",
      "metadata": {
        "id": "Zzk4mraoCRKV",
        "colab_type": "code",
        "colab": {}
      },
      "source": [
        "import os\n",
        "from collections import namedtuple\n",
        "\n",
        "import matplotlib.pyplot as plt\n",
        "import numpy as np\n",
        "import torch\n",
        "import torch.nn as nn\n",
        "import torchvision as tv\n",
        "import tqdm\n",
        "from scipy.optimize import Bounds, minimize\n",
        "from torch import optim\n",
        "from torch.autograd import Variable\n",
        "from torch.functional import F\n",
        "from torch.utils.data import DataLoader, Dataset, TensorDataset, random_split\n",
        "from torchvision import datasets, transforms"
      ],
      "execution_count": 0,
      "outputs": []
    },
    {
      "cell_type": "markdown",
      "metadata": {
        "id": "PQmVWi_zCRKf",
        "colab_type": "text"
      },
      "source": [
        "# Week 14:  Intriguing Properties of Neural Networks\n",
        "There are two types of adversarial models that we will create. First, we will reproduce some of the results of Szegedy via targeted misclassifications, and also test the cross-model susceptibility.  An optional second section explores the development of a different method for generating adversarial examples called the Fast Gradient Sign Method.\n",
        "\n",
        "### Part 1: Targeted Examples\n",
        "\n",
        "Now we will find inputs that will cause the network to mispredict in such a way that it outputs what we want it to."
      ]
    },
    {
      "cell_type": "code",
      "metadata": {
        "id": "Uu9NUflqCRKh",
        "colab_type": "code",
        "colab": {}
      },
      "source": [
        "Config = namedtuple(\n",
        "    \"Config\",\n",
        "    (\n",
        "        \"batch_size\",\n",
        "        \"epochs\",\n",
        "        \"lr\",\n",
        "        \"lr_gamma\",\n",
        "        \"input_size\",\n",
        "        \"output_size\",\n",
        "        \"w_decay\",\n",
        "        \"r_weight\",\n",
        "        \"device\",\n",
        "    )\n",
        ")\n",
        "device = torch.device(\"cuda\" if torch.cuda.is_available() else \"cpu\")\n",
        "\n",
        "config = Config(\n",
        "    batch_size=64,\n",
        "    epochs=25,\n",
        "    # Learning rate\n",
        "    lr=1e-4,\n",
        "    # Learning rate decay factor\n",
        "    lr_gamma=0.88,\n",
        "    input_size=28*28,\n",
        "    output_size=10,\n",
        "    # L2 regularization strength\n",
        "    w_decay=1e-4,\n",
        "    # c from section 4.1 of the paper\n",
        "    r_weight=0.15,\n",
        "    device = device,\n",
        "    \n",
        ")"
      ],
      "execution_count": 0,
      "outputs": []
    },
    {
      "cell_type": "markdown",
      "metadata": {
        "id": "dDMLSZc-CRKm",
        "colab_type": "text"
      },
      "source": [
        "### Data\n",
        "\n",
        "We'll use the full MNIST datasets for training and testing."
      ]
    },
    {
      "cell_type": "code",
      "metadata": {
        "id": "aXN0rZUUCRKn",
        "colab_type": "code",
        "colab": {
          "base_uri": "https://localhost:8080/",
          "height": 356,
          "referenced_widgets": [
            "526f90c8db9c458b9fb496ce2dcb2985",
            "e847f43d60364269b0b2511493f66c3e",
            "dabb1d67b4e0469db608609471e27f4c",
            "736e8111672142bd99bb07adff877314",
            "751647dd86684c21aa853c8eca8fc475",
            "c457b573fc534470a5016fd9273374ef",
            "605b88a7a5614c219a64490c58b596fb",
            "7093f651ef9d432da1b73118ac3022e4",
            "09cb71553fbc4685a8b81c90863d6a9c",
            "9c87de586556445b8b5bfd1faa661334",
            "ef6995456d5a42d18199ed47353cd4d7",
            "607f131132b343b092fb803dd6ff38d7",
            "9a9619dce0e64ea5ac801fa4e0ea9787",
            "7a94acfb7f3c453bbe39368ab1fefca0",
            "717433bd368f411cb043a51abedf037c",
            "89fdf18d3cb747bfb444caee99a51999",
            "8a5a0f8d50394ce6b569383cbc24cd89",
            "e71da5e01f93485e94fa28291448a6c2",
            "0f4302fd2eae47148708d96fd88e4ecc",
            "01ebb28b74084d70b812ab7b69dbdcc9",
            "0e73608b928f41cca77e9bf03e7370f2",
            "634c8b9f576546288feba6d12a0f4735",
            "2bcf0f3dc9294173b8f5ef62e7783fe0",
            "ceec366cfab34315ba4d2a0995caa69d",
            "1d87ac080ef841adaeee0cedd2f6a61e",
            "27634b1f7bc84fab840d36ca661ea9a2",
            "1909e6e43a114938b6db339bec768124",
            "b2884696ea3a47a4a162ad73baeaa7dd",
            "bf06cc16281844229fde514ab0065e46",
            "53ee47caeda6419c83bde6a9e1a538e4",
            "abe9c2d63a3349ef9810a056c2855a57",
            "05185e8aa8254888890c771586bc5ae5"
          ]
        },
        "outputId": "86a789e8-1799-4cf6-96c6-9adbe51885a5"
      },
      "source": [
        "os.makedirs(\"./data\", exist_ok=True)\n",
        "# MNIST Datasets\n",
        "train_ds = tv.datasets.MNIST(\n",
        "    \"./data\",\n",
        "    transform=tv.transforms.ToTensor(),\n",
        "    train=True,\n",
        "    download=True\n",
        ")\n",
        "test_ds = tv.datasets.MNIST(\n",
        "    \"./data\",\n",
        "    transform=tv.transforms.ToTensor(),\n",
        "    train=False,\n",
        ")\n",
        "# MNIST Data Loaders\n",
        "train_dl = torch.utils.data.DataLoader(\n",
        "    train_ds,\n",
        "    batch_size=config.batch_size,\n",
        "    drop_last=True,\n",
        "    shuffle=True,\n",
        "    num_workers=4,\n",
        ")\n",
        "test_dl = torch.utils.data.DataLoader(\n",
        "    test_ds,\n",
        "    batch_size=config.batch_size,\n",
        "    shuffle=True\n",
        ")"
      ],
      "execution_count": 3,
      "outputs": [
        {
          "output_type": "stream",
          "text": [
            "Downloading http://yann.lecun.com/exdb/mnist/train-images-idx3-ubyte.gz to ./data/MNIST/raw/train-images-idx3-ubyte.gz\n"
          ],
          "name": "stdout"
        },
        {
          "output_type": "display_data",
          "data": {
            "application/vnd.jupyter.widget-view+json": {
              "model_id": "526f90c8db9c458b9fb496ce2dcb2985",
              "version_minor": 0,
              "version_major": 2
            },
            "text/plain": [
              "HBox(children=(IntProgress(value=1, bar_style='info', max=1), HTML(value='')))"
            ]
          },
          "metadata": {
            "tags": []
          }
        },
        {
          "output_type": "stream",
          "text": [
            "Extracting ./data/MNIST/raw/train-images-idx3-ubyte.gz to ./data/MNIST/raw\n",
            "Downloading http://yann.lecun.com/exdb/mnist/train-labels-idx1-ubyte.gz to ./data/MNIST/raw/train-labels-idx1-ubyte.gz\n"
          ],
          "name": "stdout"
        },
        {
          "output_type": "display_data",
          "data": {
            "application/vnd.jupyter.widget-view+json": {
              "model_id": "09cb71553fbc4685a8b81c90863d6a9c",
              "version_minor": 0,
              "version_major": 2
            },
            "text/plain": [
              "HBox(children=(IntProgress(value=1, bar_style='info', max=1), HTML(value='')))"
            ]
          },
          "metadata": {
            "tags": []
          }
        },
        {
          "output_type": "stream",
          "text": [
            "Extracting ./data/MNIST/raw/train-labels-idx1-ubyte.gz to ./data/MNIST/raw\n",
            "Downloading http://yann.lecun.com/exdb/mnist/t10k-images-idx3-ubyte.gz to ./data/MNIST/raw/t10k-images-idx3-ubyte.gz\n"
          ],
          "name": "stdout"
        },
        {
          "output_type": "display_data",
          "data": {
            "application/vnd.jupyter.widget-view+json": {
              "model_id": "8a5a0f8d50394ce6b569383cbc24cd89",
              "version_minor": 0,
              "version_major": 2
            },
            "text/plain": [
              "HBox(children=(IntProgress(value=1, bar_style='info', max=1), HTML(value='')))"
            ]
          },
          "metadata": {
            "tags": []
          }
        },
        {
          "output_type": "stream",
          "text": [
            "Extracting ./data/MNIST/raw/t10k-images-idx3-ubyte.gz to ./data/MNIST/raw\n",
            "Downloading http://yann.lecun.com/exdb/mnist/t10k-labels-idx1-ubyte.gz to ./data/MNIST/raw/t10k-labels-idx1-ubyte.gz\n"
          ],
          "name": "stdout"
        },
        {
          "output_type": "display_data",
          "data": {
            "application/vnd.jupyter.widget-view+json": {
              "model_id": "1d87ac080ef841adaeee0cedd2f6a61e",
              "version_minor": 0,
              "version_major": 2
            },
            "text/plain": [
              "HBox(children=(IntProgress(value=1, bar_style='info', max=1), HTML(value='')))"
            ]
          },
          "metadata": {
            "tags": []
          }
        },
        {
          "output_type": "stream",
          "text": [
            "Extracting ./data/MNIST/raw/t10k-labels-idx1-ubyte.gz to ./data/MNIST/raw\n",
            "Processing...\n",
            "Done!\n"
          ],
          "name": "stdout"
        },
        {
          "output_type": "stream",
          "text": [
            "/pytorch/torch/csrc/utils/tensor_numpy.cpp:141: UserWarning: The given NumPy array is not writeable, and PyTorch does not support non-writeable tensors. This means you can write to the underlying (supposedly non-writeable) NumPy array using the tensor. You may want to copy the array to protect its data or make it writeable before converting it to a tensor. This type of warning will be suppressed for the rest of this program.\n"
          ],
          "name": "stderr"
        }
      ]
    },
    {
      "cell_type": "markdown",
      "metadata": {
        "id": "1fD7UQKKCRKs",
        "colab_type": "text"
      },
      "source": [
        "### Helpers\n",
        "\n",
        "These are some helper functions that you don't need to worry about"
      ]
    },
    {
      "cell_type": "code",
      "metadata": {
        "id": "y47q-bGkCRKt",
        "colab_type": "code",
        "colab": {}
      },
      "source": [
        "def train(model, opt, loss_func, loader, config, epoch):\n",
        "    it = tqdm.tqdm(loader, ncols=80, desc=f\"train: {epoch + 1}/{config.epochs}\")\n",
        "    for imgs, targets in it:\n",
        "        model.train()\n",
        "        opt.zero_grad()\n",
        "        imgs = imgs.to(config.device).double()\n",
        "        targets = targets.to(config.device)\n",
        "        out = model(imgs)\n",
        "        loss = loss_func(out, targets)\n",
        "        loss.backward()\n",
        "        opt.step()\n",
        "        \n",
        "        \n",
        "def test(model, loader, config):\n",
        "    correct = 0\n",
        "    for imgs, targets in tqdm.tqdm(loader, ncols=80, desc=\"Test\"):\n",
        "        model.eval()\n",
        "        imgs = imgs.to(config.device).double()\n",
        "        targets = targets.to(config.device)\n",
        "        with torch.no_grad():\n",
        "            out = model(imgs)\n",
        "            pred = logits_to_label(out)\n",
        "            correct += (pred == targets).sum()\n",
        "    N = len(loader.dataset)\n",
        "    acc = float(correct) / N\n",
        "    print(f\"Test acc: {acc:.02%}\")\n",
        "\n",
        "    \n",
        "def fetch_trained_model(model_class, train_loader, test_loader, load_from_file, path, config):\n",
        "    \"\"\"Either fetch a stored model from disk or train one from scratch\"\"\"\n",
        "    model = model_class(config).double().to(config.device)\n",
        "    if os.path.isfile(path) and load_from_file:\n",
        "        model.load_state_dict(torch.load(path))\n",
        "        test(model, test_loader, config)\n",
        "    else:\n",
        "        opt = torch.optim.Adam(model.parameters(), config.lr, weight_decay=config.w_decay)\n",
        "        # Learning rate adjuster\n",
        "        sched = torch.optim.lr_scheduler.StepLR(opt, 1, config.lr_gamma)\n",
        "        criterion = nn.CrossEntropyLoss()\n",
        "\n",
        "        for ep in range(config.epochs):\n",
        "            train(model, opt, criterion, train_loader, config, ep)\n",
        "            test(model, test_loader, config)\n",
        "            sched.step()\n",
        "        torch.save(model.state_dict(), path)\n",
        "    model.eval()\n",
        "    print(model)\n",
        "    return model"
      ],
      "execution_count": 0,
      "outputs": []
    },
    {
      "cell_type": "markdown",
      "metadata": {
        "id": "aKeq2ly8CRKy",
        "colab_type": "text"
      },
      "source": [
        "### Model\n",
        "We'll use one of the fully connected models from the paper."
      ]
    },
    {
      "cell_type": "code",
      "metadata": {
        "id": "u2pEOGBXCRKz",
        "colab_type": "code",
        "colab": {}
      },
      "source": [
        "def logits_to_label(logits):\n",
        "    \"\"\"\n",
        "    Converts the logits or log-odds output of the networks\n",
        "    to a class label.\n",
        "    \"\"\"\n",
        "    return torch.softmax(logits, 1).argmax(1)\n",
        "\n",
        "\n",
        "class FCNet100(nn.Module):\n",
        "    \"\"\"The FC100-100-10 network from the paper\"\"\"\n",
        "\n",
        "    def __init__(self, config):\n",
        "        super(FCNet100, self).__init__()\n",
        "        self.config = config\n",
        "        self.model = nn.Sequential(\n",
        "            nn.Linear(config.input_size, 100),\n",
        "            nn.LeakyReLU(0.1, inplace=True),\n",
        "            \n",
        "            nn.Linear(100, 100),\n",
        "            nn.LeakyReLU(0.1, inplace=True),\n",
        "            \n",
        "            nn.Linear(100, config.output_size),\n",
        "        )\n",
        "        # Note that softmax is left out of the model on purpose.\n",
        "    \n",
        "    def forward(self, x):\n",
        "        if isinstance(x, np.ndarray):\n",
        "            x = torch.tensor(x).to(self.config.device)\n",
        "        x = x.view(x.size(0), self.config.input_size)\n",
        "        # Logits\n",
        "        return self.model(x)"
      ],
      "execution_count": 0,
      "outputs": []
    },
    {
      "cell_type": "markdown",
      "metadata": {
        "id": "mUtfrtqKCRK3",
        "colab_type": "text"
      },
      "source": [
        "For convenience, a pre-trained set of weights are included in this repository at './data/model_1.pt'.\n",
        "The code below will load them for you. Pass `False` to the `load` argument to train a fresh version\n",
        "of the model. Note that `double()` has been called on the model so that all of the weights are 64-bit floats\n",
        "and the model is expecting 64-bit float inputs. The model will also produce 64-bit floats as outputs.\n",
        "This last part is why `double()` is called and is important later."
      ]
    },
    {
      "cell_type": "code",
      "metadata": {
        "id": "N1QwpGw3DQx1",
        "colab_type": "code",
        "colab": {
          "resources": {
            "http://localhost:8080/nbextensions/google.colab/files.js": {
              "data": "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",
              "ok": true,
              "headers": [
                [
                  "content-type",
                  "application/javascript"
                ]
              ],
              "status": 200,
              "status_text": ""
            }
          },
          "base_uri": "https://localhost:8080/",
          "height": 110
        },
        "outputId": "2251b65b-6928-4ad0-ae36-c850b4d8b1e3"
      },
      "source": [
        "from google.colab import files\n",
        "uploaded = files.upload()"
      ],
      "execution_count": 8,
      "outputs": [
        {
          "output_type": "display_data",
          "data": {
            "text/html": [
              "\n",
              "     <input type=\"file\" id=\"files-72932dff-22e0-4591-8497-313d0b3481f0\" name=\"files[]\" multiple disabled />\n",
              "     <output id=\"result-72932dff-22e0-4591-8497-313d0b3481f0\">\n",
              "      Upload widget is only available when the cell has been executed in the\n",
              "      current browser session. Please rerun this cell to enable.\n",
              "      </output>\n",
              "      <script src=\"/nbextensions/google.colab/files.js\"></script> "
            ],
            "text/plain": [
              "<IPython.core.display.HTML object>"
            ]
          },
          "metadata": {
            "tags": []
          }
        },
        {
          "output_type": "stream",
          "text": [
            "Saving model_1.pt to model_1.pt\n",
            "Saving model_2.pt to model_2.pt\n"
          ],
          "name": "stdout"
        }
      ]
    },
    {
      "cell_type": "code",
      "metadata": {
        "scrolled": true,
        "id": "5aGjkwBcCRK4",
        "colab_type": "code",
        "colab": {
          "base_uri": "https://localhost:8080/",
          "height": 1000
        },
        "outputId": "5ffa8cd5-bd49-4ca5-88b0-6bf0e0c34274"
      },
      "source": [
        "# Load our first model from disk or train a fresh one\n",
        "model = fetch_trained_model(\n",
        "    FCNet100,\n",
        "    train_dl,\n",
        "    test_dl,\n",
        "    True,\n",
        "    \"./data/model_1.pt\",\n",
        "    config\n",
        ")"
      ],
      "execution_count": 9,
      "outputs": [
        {
          "output_type": "stream",
          "text": [
            "train: 1/25: 100%|███████████████████████████| 937/937 [00:06<00:00, 138.47it/s]\n",
            "Test: 100%|██████████████████████████████████| 157/157 [00:00<00:00, 215.03it/s]\n",
            "train: 2/25:   0%|                                      | 0/937 [00:00<?, ?it/s]"
          ],
          "name": "stderr"
        },
        {
          "output_type": "stream",
          "text": [
            "Test acc: 89.94%\n"
          ],
          "name": "stdout"
        },
        {
          "output_type": "stream",
          "text": [
            "train: 2/25: 100%|███████████████████████████| 937/937 [00:06<00:00, 139.56it/s]\n",
            "Test: 100%|██████████████████████████████████| 157/157 [00:00<00:00, 213.55it/s]\n",
            "train: 3/25:   0%|                                      | 0/937 [00:00<?, ?it/s]"
          ],
          "name": "stderr"
        },
        {
          "output_type": "stream",
          "text": [
            "Test acc: 91.45%\n"
          ],
          "name": "stdout"
        },
        {
          "output_type": "stream",
          "text": [
            "train: 3/25: 100%|███████████████████████████| 937/937 [00:06<00:00, 139.55it/s]\n",
            "Test: 100%|██████████████████████████████████| 157/157 [00:00<00:00, 204.80it/s]\n",
            "train: 4/25:   0%|                                      | 0/937 [00:00<?, ?it/s]"
          ],
          "name": "stderr"
        },
        {
          "output_type": "stream",
          "text": [
            "Test acc: 91.92%\n"
          ],
          "name": "stdout"
        },
        {
          "output_type": "stream",
          "text": [
            "train: 4/25: 100%|███████████████████████████| 937/937 [00:06<00:00, 141.68it/s]\n",
            "Test: 100%|██████████████████████████████████| 157/157 [00:00<00:00, 214.09it/s]\n",
            "train: 5/25:   0%|                                      | 0/937 [00:00<?, ?it/s]"
          ],
          "name": "stderr"
        },
        {
          "output_type": "stream",
          "text": [
            "Test acc: 92.49%\n"
          ],
          "name": "stdout"
        },
        {
          "output_type": "stream",
          "text": [
            "train: 5/25: 100%|███████████████████████████| 937/937 [00:06<00:00, 141.37it/s]\n",
            "Test: 100%|██████████████████████████████████| 157/157 [00:00<00:00, 216.09it/s]\n",
            "train: 6/25:   0%|                                      | 0/937 [00:00<?, ?it/s]"
          ],
          "name": "stderr"
        },
        {
          "output_type": "stream",
          "text": [
            "Test acc: 92.85%\n"
          ],
          "name": "stdout"
        },
        {
          "output_type": "stream",
          "text": [
            "train: 6/25: 100%|███████████████████████████| 937/937 [00:06<00:00, 141.73it/s]\n",
            "Test: 100%|██████████████████████████████████| 157/157 [00:00<00:00, 220.53it/s]\n",
            "train: 7/25:   0%|                                      | 0/937 [00:00<?, ?it/s]"
          ],
          "name": "stderr"
        },
        {
          "output_type": "stream",
          "text": [
            "Test acc: 93.00%\n"
          ],
          "name": "stdout"
        },
        {
          "output_type": "stream",
          "text": [
            "train: 7/25: 100%|███████████████████████████| 937/937 [00:06<00:00, 142.38it/s]\n",
            "Test: 100%|██████████████████████████████████| 157/157 [00:00<00:00, 229.02it/s]\n",
            "train: 8/25:   0%|                                      | 0/937 [00:00<?, ?it/s]"
          ],
          "name": "stderr"
        },
        {
          "output_type": "stream",
          "text": [
            "Test acc: 93.32%\n"
          ],
          "name": "stdout"
        },
        {
          "output_type": "stream",
          "text": [
            "train: 8/25: 100%|███████████████████████████| 937/937 [00:06<00:00, 141.79it/s]\n",
            "Test: 100%|██████████████████████████████████| 157/157 [00:00<00:00, 219.99it/s]\n",
            "train: 9/25:   0%|                                      | 0/937 [00:00<?, ?it/s]"
          ],
          "name": "stderr"
        },
        {
          "output_type": "stream",
          "text": [
            "Test acc: 93.49%\n"
          ],
          "name": "stdout"
        },
        {
          "output_type": "stream",
          "text": [
            "train: 9/25: 100%|███████████████████████████| 937/937 [00:06<00:00, 140.56it/s]\n",
            "Test: 100%|██████████████████████████████████| 157/157 [00:00<00:00, 221.81it/s]\n",
            "train: 10/25:   0%|                                     | 0/937 [00:00<?, ?it/s]"
          ],
          "name": "stderr"
        },
        {
          "output_type": "stream",
          "text": [
            "Test acc: 93.50%\n"
          ],
          "name": "stdout"
        },
        {
          "output_type": "stream",
          "text": [
            "train: 10/25: 100%|██████████████████████████| 937/937 [00:06<00:00, 142.14it/s]\n",
            "Test: 100%|██████████████████████████████████| 157/157 [00:00<00:00, 224.75it/s]\n",
            "train: 11/25:   0%|                                     | 0/937 [00:00<?, ?it/s]"
          ],
          "name": "stderr"
        },
        {
          "output_type": "stream",
          "text": [
            "Test acc: 93.71%\n"
          ],
          "name": "stdout"
        },
        {
          "output_type": "stream",
          "text": [
            "train: 11/25: 100%|██████████████████████████| 937/937 [00:06<00:00, 142.95it/s]\n",
            "Test: 100%|██████████████████████████████████| 157/157 [00:00<00:00, 217.47it/s]\n",
            "train: 12/25:   0%|                                     | 0/937 [00:00<?, ?it/s]"
          ],
          "name": "stderr"
        },
        {
          "output_type": "stream",
          "text": [
            "Test acc: 93.87%\n"
          ],
          "name": "stdout"
        },
        {
          "output_type": "stream",
          "text": [
            "train: 12/25: 100%|██████████████████████████| 937/937 [00:06<00:00, 140.81it/s]\n",
            "Test: 100%|██████████████████████████████████| 157/157 [00:00<00:00, 223.67it/s]\n",
            "train: 13/25:   0%|                                     | 0/937 [00:00<?, ?it/s]"
          ],
          "name": "stderr"
        },
        {
          "output_type": "stream",
          "text": [
            "Test acc: 93.85%\n"
          ],
          "name": "stdout"
        },
        {
          "output_type": "stream",
          "text": [
            "train: 13/25: 100%|██████████████████████████| 937/937 [00:06<00:00, 140.90it/s]\n",
            "Test: 100%|██████████████████████████████████| 157/157 [00:00<00:00, 211.73it/s]\n",
            "train: 14/25:   0%|                                     | 0/937 [00:00<?, ?it/s]"
          ],
          "name": "stderr"
        },
        {
          "output_type": "stream",
          "text": [
            "Test acc: 93.96%\n"
          ],
          "name": "stdout"
        },
        {
          "output_type": "stream",
          "text": [
            "train: 14/25: 100%|██████████████████████████| 937/937 [00:06<00:00, 139.95it/s]\n",
            "Test: 100%|██████████████████████████████████| 157/157 [00:00<00:00, 227.14it/s]\n",
            "train: 15/25:   0%|                                     | 0/937 [00:00<?, ?it/s]"
          ],
          "name": "stderr"
        },
        {
          "output_type": "stream",
          "text": [
            "Test acc: 94.07%\n"
          ],
          "name": "stdout"
        },
        {
          "output_type": "stream",
          "text": [
            "train: 15/25: 100%|██████████████████████████| 937/937 [00:06<00:00, 143.42it/s]\n",
            "Test: 100%|██████████████████████████████████| 157/157 [00:00<00:00, 221.30it/s]\n",
            "train: 16/25:   0%|                                     | 0/937 [00:00<?, ?it/s]"
          ],
          "name": "stderr"
        },
        {
          "output_type": "stream",
          "text": [
            "Test acc: 94.06%\n"
          ],
          "name": "stdout"
        },
        {
          "output_type": "stream",
          "text": [
            "train: 16/25: 100%|██████████████████████████| 937/937 [00:06<00:00, 142.82it/s]\n",
            "Test: 100%|██████████████████████████████████| 157/157 [00:00<00:00, 226.20it/s]\n",
            "train: 17/25:   0%|                                     | 0/937 [00:00<?, ?it/s]"
          ],
          "name": "stderr"
        },
        {
          "output_type": "stream",
          "text": [
            "Test acc: 94.17%\n"
          ],
          "name": "stdout"
        },
        {
          "output_type": "stream",
          "text": [
            "train: 17/25: 100%|██████████████████████████| 937/937 [00:06<00:00, 142.45it/s]\n",
            "Test: 100%|██████████████████████████████████| 157/157 [00:00<00:00, 222.35it/s]\n",
            "train: 18/25:   0%|                                     | 0/937 [00:00<?, ?it/s]"
          ],
          "name": "stderr"
        },
        {
          "output_type": "stream",
          "text": [
            "Test acc: 94.21%\n"
          ],
          "name": "stdout"
        },
        {
          "output_type": "stream",
          "text": [
            "train: 18/25: 100%|██████████████████████████| 937/937 [00:06<00:00, 142.17it/s]\n",
            "Test: 100%|██████████████████████████████████| 157/157 [00:00<00:00, 219.84it/s]\n",
            "train: 19/25:   0%|                                     | 0/937 [00:00<?, ?it/s]"
          ],
          "name": "stderr"
        },
        {
          "output_type": "stream",
          "text": [
            "Test acc: 94.24%\n"
          ],
          "name": "stdout"
        },
        {
          "output_type": "stream",
          "text": [
            "train: 19/25: 100%|██████████████████████████| 937/937 [00:06<00:00, 141.16it/s]\n",
            "Test: 100%|██████████████████████████████████| 157/157 [00:00<00:00, 221.02it/s]\n",
            "train: 20/25:   0%|                                     | 0/937 [00:00<?, ?it/s]"
          ],
          "name": "stderr"
        },
        {
          "output_type": "stream",
          "text": [
            "Test acc: 94.25%\n"
          ],
          "name": "stdout"
        },
        {
          "output_type": "stream",
          "text": [
            "train: 20/25: 100%|██████████████████████████| 937/937 [00:06<00:00, 141.02it/s]\n",
            "Test: 100%|██████████████████████████████████| 157/157 [00:00<00:00, 225.04it/s]\n",
            "train: 21/25:   0%|                                     | 0/937 [00:00<?, ?it/s]"
          ],
          "name": "stderr"
        },
        {
          "output_type": "stream",
          "text": [
            "Test acc: 94.19%\n"
          ],
          "name": "stdout"
        },
        {
          "output_type": "stream",
          "text": [
            "train: 21/25: 100%|██████████████████████████| 937/937 [00:06<00:00, 142.22it/s]\n",
            "Test: 100%|██████████████████████████████████| 157/157 [00:00<00:00, 225.52it/s]\n",
            "train: 22/25:   0%|                                     | 0/937 [00:00<?, ?it/s]"
          ],
          "name": "stderr"
        },
        {
          "output_type": "stream",
          "text": [
            "Test acc: 94.32%\n"
          ],
          "name": "stdout"
        },
        {
          "output_type": "stream",
          "text": [
            "train: 22/25: 100%|██████████████████████████| 937/937 [00:06<00:00, 141.78it/s]\n",
            "Test: 100%|██████████████████████████████████| 157/157 [00:00<00:00, 219.18it/s]\n",
            "train: 23/25:   0%|                                     | 0/937 [00:00<?, ?it/s]"
          ],
          "name": "stderr"
        },
        {
          "output_type": "stream",
          "text": [
            "Test acc: 94.37%\n"
          ],
          "name": "stdout"
        },
        {
          "output_type": "stream",
          "text": [
            "train: 23/25: 100%|██████████████████████████| 937/937 [00:06<00:00, 142.72it/s]\n",
            "Test: 100%|██████████████████████████████████| 157/157 [00:00<00:00, 224.06it/s]\n",
            "train: 24/25:   0%|                                     | 0/937 [00:00<?, ?it/s]"
          ],
          "name": "stderr"
        },
        {
          "output_type": "stream",
          "text": [
            "Test acc: 94.37%\n"
          ],
          "name": "stdout"
        },
        {
          "output_type": "stream",
          "text": [
            "train: 24/25: 100%|██████████████████████████| 937/937 [00:06<00:00, 142.23it/s]\n",
            "Test: 100%|██████████████████████████████████| 157/157 [00:00<00:00, 219.51it/s]\n",
            "train: 25/25:   0%|                                     | 0/937 [00:00<?, ?it/s]"
          ],
          "name": "stderr"
        },
        {
          "output_type": "stream",
          "text": [
            "Test acc: 94.31%\n"
          ],
          "name": "stdout"
        },
        {
          "output_type": "stream",
          "text": [
            "train: 25/25: 100%|██████████████████████████| 937/937 [00:06<00:00, 142.27it/s]\n",
            "Test: 100%|██████████████████████████████████| 157/157 [00:00<00:00, 214.81it/s]"
          ],
          "name": "stderr"
        },
        {
          "output_type": "stream",
          "text": [
            "Test acc: 94.41%\n",
            "FCNet100(\n",
            "  (model): Sequential(\n",
            "    (0): Linear(in_features=784, out_features=100, bias=True)\n",
            "    (1): LeakyReLU(negative_slope=0.1, inplace=True)\n",
            "    (2): Linear(in_features=100, out_features=100, bias=True)\n",
            "    (3): LeakyReLU(negative_slope=0.1, inplace=True)\n",
            "    (4): Linear(in_features=100, out_features=10, bias=True)\n",
            "  )\n",
            ")\n"
          ],
          "name": "stdout"
        },
        {
          "output_type": "stream",
          "text": [
            "\n"
          ],
          "name": "stderr"
        }
      ]
    },
    {
      "cell_type": "markdown",
      "metadata": {
        "id": "ENYxAT96CRLB",
        "colab_type": "text"
      },
      "source": [
        "## Finding Adversarial Examples\n",
        "\n",
        "The two functions below are used to find targeted examples. Together these make up the algorithm\n",
        "descriibed in Section 4.1 of the paper:\n",
        "\n",
        "$$\\textrm{minimize} \\quad c \\left\\lvert r \\right\\rvert + \\textrm{loss}_f(x + r, l)$$\n",
        "with $$x + r \\in [0, 1]^m$$"
      ]
    },
    {
      "cell_type": "code",
      "metadata": {
        "id": "ZHEKp-xCCRLD",
        "colab_type": "code",
        "colab": {}
      },
      "source": [
        "class TorchGradientCalculator:\n",
        "    def __init__(self,x_initial,net,c,target,device):\n",
        "        self.net = net\n",
        "        self.target = target\n",
        "        self.device = device\n",
        "        self.c = c\n",
        "        self.x_initial = torch.tensor(x_initial.reshape(1, 28, 28)).to(device)\n",
        "        self.cost = None\n",
        "        self.g = None\n",
        "        \n",
        "    def _F(self,x_plus_r):\n",
        "        x_plus_r_tensor = torch.tensor(x_plus_r.reshape(1, 28, 28),requires_grad=True).to(device)\n",
        "        logits = self.net(x_plus_r_tensor)\n",
        "        class_penalty = nn.functional.cross_entropy(logits, self.target)\n",
        "        r = x_plus_r_tensor - self.x_initial\n",
        "        size_penalty = self.c * torch.norm(r) \n",
        "\n",
        "        self.cost = size_penalty + class_penalty\n",
        "        self.g = torch.autograd.grad(self.cost,x_plus_r_tensor)[0]\n",
        "        return self.cost.detach().cpu().numpy()\n",
        "    \n",
        "    def _G(self,x_plus_r):\n",
        "        return self.g.detach().cpu().numpy().ravel()\n",
        "\n"
      ],
      "execution_count": 0,
      "outputs": []
    },
    {
      "cell_type": "code",
      "metadata": {
        "id": "Z3_ft1GyJRQO",
        "colab_type": "code",
        "colab": {}
      },
      "source": [
        "def find_adversarial_example(\n",
        "    net, x, target, config, max_iterations=45_000, max_penalty_function_calls=45_000\n",
        "):\n",
        "    \"\"\"This is the optimization problem described in Section 4.1\"\"\"\n",
        "    # The c weight for the L1 norm of r\n",
        "    c = config.r_weight\n",
        "    # Box constraint: [0, 1]^m\n",
        "    box_constraint = Bounds(np.zeros_like(x.ravel()), np.ones_like(x.ravel()))\n",
        "    # Target label as tensor\n",
        "    target = torch.tensor([target]).to(config.device, dtype=torch.int64)\n",
        "    # Args that will be passed to the penalty function in addition to the (x + r) array.\n",
        "    args = (x.flatten(), net, c, target, device)\n",
        "    #\n",
        "    # TODO: What should the initial guess for x+r be?\n",
        "    #\n",
        "    x_plus_r_initial = x\n",
        "    \n",
        "    tgc = TorchGradientCalculator(*args)\n",
        "    \n",
        "    # minimize will be calling the penalty function, and in turn the model, a LOT.\n",
        "    # We use torch.no_grad() to make sure that we don't have the overhead of\n",
        "    # torch's autograd during those calls.\n",
        "\n",
        "    # We'll treat scipy's minimize as a black box and simply use it as a means to an\n",
        "    # end. Below, we have used the recommended settings for \"L-BFGS-B\" from the\n",
        "    # scipy docs.\n",
        "    res = minimize(\n",
        "            # Our penalty function from above\n",
        "            tgc._F,\n",
        "            # Flatten it since minimize only works on a 1D array\n",
        "            x_plus_r_initial.flatten(),\n",
        "            method='L-BFGS-B',\n",
        "            jac=tgc._G,\n",
        "            bounds=box_constraint,\n",
        "            tol=None,\n",
        "            callback=None,\n",
        "            options={\n",
        "                'disp': None,\n",
        "                'maxcor': 10,\n",
        "                'ftol': 2.220446049250313e-09,\n",
        "                'gtol': 1e-05,\n",
        "                # This is the step size used by the numerical optimizer\n",
        "                'eps': 1e-9,\n",
        "                # The maximum number of times the penalty func can be called by minimize\n",
        "                'maxfun': max_penalty_function_calls,\n",
        "                # The maximum number of steps taken by minimize\n",
        "                'maxiter': max_iterations,\n",
        "                'iprint': -1,\n",
        "                'maxls': 15,\n",
        "            }\n",
        "        )\n",
        "    # Reshape back into an image\n",
        "    xr = torch.tensor(res.x.reshape(x.shape))\n",
        "    return xr"
      ],
      "execution_count": 0,
      "outputs": []
    },
    {
      "cell_type": "markdown",
      "metadata": {
        "id": "LBvWvSahCRLQ",
        "colab_type": "text"
      },
      "source": [
        "### Starting Images\n",
        "Now we will select some images from the test dataset, which the model hasn't seen, to turn into adversarial\n",
        "examples."
      ]
    },
    {
      "cell_type": "code",
      "metadata": {
        "id": "y24ZFbxJCRLR",
        "colab_type": "code",
        "colab": {
          "base_uri": "https://localhost:8080/",
          "height": 569
        },
        "outputId": "7b9f9c01-4e9d-477b-e6b2-96fbd81b077a"
      },
      "source": [
        "# Select N images that the model correctly classifies already\n",
        "N = 16\n",
        "adv_target = 8\n",
        "x_imgs = []\n",
        "x_labels = []\n",
        "for x, label in test_ds:\n",
        "    if label == adv_target:\n",
        "        continue\n",
        "    x = x.to(config.device).double()\n",
        "    # Make sure that the model correctly classifies this x\n",
        "    if (logits_to_label(model(x)) == label).item():\n",
        "        x_imgs.append(x.cpu())\n",
        "        x_labels.append(label)\n",
        "    if len(x_imgs) >= N:\n",
        "        break\n",
        "\n",
        "x_labels = np.array(x_labels).reshape(4, 4)\n",
        "grid = tv.utils.make_grid(x_imgs, nrow=4, pad_value=1)\n",
        "plt.figure(figsize=(8, 8))\n",
        "plt.title(\"Original Inputs\")\n",
        "plt.imshow(np.transpose(grid, (1, 2, 0)))\n",
        "print(x_labels)"
      ],
      "execution_count": 61,
      "outputs": [
        {
          "output_type": "stream",
          "text": [
            "[[7 2 1 0]\n",
            " [4 1 4 9]\n",
            " [9 0 6 9]\n",
            " [0 1 5 9]]\n"
          ],
          "name": "stdout"
        },
        {
          "output_type": "display_data",
          "data": {
            "image/png": "[encoded data removed]",
            "text/plain": [
              "<Figure size 576x576 with 1 Axes>"
            ]
          },
          "metadata": {
            "tags": [],
            "needs_background": "light"
          }
        }
      ]
    },
    {
      "cell_type": "markdown",
      "metadata": {
        "id": "3yg4-NmuCRLW",
        "colab_type": "text"
      },
      "source": [
        "## Creating Adversaries\n",
        "This code will call the functions above to create adverserial examples. Unfortunately, it\n",
        "runs pretty slowly so it can take some time to find them. You can try adjusting\n",
        "the `max_iterations` and `max_penalty_function_calls` parameters of\n",
        "`find_adversarial_example()` to speed things up. Note that if you lower them too far you\n",
        "will produce poor examples that don't fool the network or that have large distortions. You can\n",
        "also adjust c to weight the size of r more or less."
      ]
    },
    {
      "cell_type": "code",
      "metadata": {
        "id": "yPy3Yu0-CRLY",
        "colab_type": "code",
        "colab": {
          "base_uri": "https://localhost:8080/",
          "height": 35
        },
        "outputId": "b5558475-0fd6-40df-f0aa-0c43d3301c7d"
      },
      "source": [
        "xr_imgs = []\n",
        "xr_labels = []\n",
        "for x in tqdm.tqdm(x_imgs, ncols=80):\n",
        "    xr = find_adversarial_example(model, x.numpy(), adv_target, config)\n",
        "    xr_imgs.append(xr)\n",
        "    new_label = logits_to_label(model(xr.to(config.device))).item()\n",
        "    xr_labels.append(new_label)\n",
        "xr_labels = np.array(xr_labels).reshape(4, 4)"
      ],
      "execution_count": 62,
      "outputs": [
        {
          "output_type": "stream",
          "text": [
            "100%|███████████████████████████████████████████| 16/16 [00:01<00:00, 13.06it/s]\n"
          ],
          "name": "stderr"
        }
      ]
    },
    {
      "cell_type": "markdown",
      "metadata": {
        "id": "f7--aTiUCRLd",
        "colab_type": "text"
      },
      "source": [
        "## Adversarial Results\n",
        "\n",
        "If everything is working properly, all of the new images should be classified as the target class."
      ]
    },
    {
      "cell_type": "code",
      "metadata": {
        "id": "-FdsH4pOCRLf",
        "colab_type": "code",
        "colab": {
          "base_uri": "https://localhost:8080/",
          "height": 1000
        },
        "outputId": "725cc02a-c381-481a-9e70-2c7992011b28"
      },
      "source": [
        "grid = tv.utils.make_grid(xr_imgs, nrow=4, pad_value=1)\n",
        "plt.figure(figsize=(8, 8))\n",
        "plt.title(\"Adversarial Examples\")\n",
        "plt.imshow(np.transpose(grid, (1, 2, 0)))\n",
        "print(f\"New Labels:\\n{xr_labels}\")\n",
        "\n",
        "# Calculate r = (x + r) - x and display them\n",
        "r_imgs = [xr - x for xr, x in zip(xr_imgs, x_imgs)]\n",
        "grid = tv.utils.make_grid(r_imgs, nrow=4, pad_value=1)\n",
        "plt.figure(figsize=(8, 8))\n",
        "plt.title(\"Adversarial Perturbations\")\n",
        "plt.imshow(np.transpose(grid, (1, 2, 0)))"
      ],
      "execution_count": 63,
      "outputs": [
        {
          "output_type": "stream",
          "text": [
            "Clipping input data to the valid range for imshow with RGB data ([0..1] for floats or [0..255] for integers).\n"
          ],
          "name": "stderr"
        },
        {
          "output_type": "stream",
          "text": [
            "New Labels:\n",
            "[[8 8 8 8]\n",
            " [8 8 8 8]\n",
            " [8 8 8 8]\n",
            " [8 8 8 8]]\n"
          ],
          "name": "stdout"
        },
        {
          "output_type": "execute_result",
          "data": {
            "text/plain": [
              "<matplotlib.image.AxesImage at 0x7f080eedb908>"
            ]
          },
          "metadata": {
            "tags": []
          },
          "execution_count": 63
        },
        {
          "output_type": "display_data",
          "data": {
            "image/png": "[encoded data removed]",
            "text/plain": [
              "<Figure size 576x576 with 1 Axes>"
            ]
          },
          "metadata": {
            "tags": [],
            "needs_background": "light"
          }
        },
        {
          "output_type": "display_data",
          "data": {
            "image/png": "[encoded data removed]",
            "text/plain": [
              "<Figure size 576x576 with 1 Axes>"
            ]
          },
          "metadata": {
            "tags": [],
            "needs_background": "light"
          }
        }
      ]
    },
    {
      "cell_type": "markdown",
      "metadata": {
        "id": "jRUF0RMbCRLm",
        "colab_type": "text"
      },
      "source": [
        "## Cross Network Attack\n",
        "Now we'll try using the examples created using one network to attack another.\n",
        "Below is a model similar to the one used above that has pre-trained weights."
      ]
    },
    {
      "cell_type": "code",
      "metadata": {
        "id": "NQu7v5RGCRLn",
        "colab_type": "code",
        "colab": {}
      },
      "source": [
        "class FCNet200(nn.Module):\n",
        "    def __init__(self, config):\n",
        "        super(FCNet200, self).__init__()\n",
        "        self.config = config\n",
        "        self.model = nn.Sequential(\n",
        "            nn.Linear(config.input_size, 200),\n",
        "            nn.LeakyReLU(0.1, inplace=True),\n",
        "            \n",
        "            nn.Linear(200, 150),\n",
        "            nn.LeakyReLU(0.1, inplace=True),\n",
        "            \n",
        "            nn.Linear(150, config.output_size),\n",
        "        )\n",
        "    \n",
        "    def forward(self, x):\n",
        "        if isinstance(x, np.ndarray):\n",
        "            x = torch.tensor(x).to(self.config.device)\n",
        "        x = x.view(x.size(0), self.config.input_size)\n",
        "        # Logits\n",
        "        return self.model(x)"
      ],
      "execution_count": 0,
      "outputs": []
    },
    {
      "cell_type": "markdown",
      "metadata": {
        "id": "cmgoLekoCRLr",
        "colab_type": "text"
      },
      "source": [
        "This loads the pre-trained weights for the model above. If you change the `True` to `False`\n",
        "it will train the model from scratch."
      ]
    },
    {
      "cell_type": "code",
      "metadata": {
        "scrolled": true,
        "id": "x9klM1HWCRLs",
        "colab_type": "code",
        "colab": {
          "base_uri": "https://localhost:8080/",
          "height": 1000
        },
        "outputId": "bfffa00d-cab2-48cd-e41e-fd2ec4c5c166"
      },
      "source": [
        "model2 = fetch_trained_model(\n",
        "    FCNet200,\n",
        "    train_dl,\n",
        "    test_dl,\n",
        "    False,\n",
        "    \"./data/model_2.pt\",\n",
        "    config\n",
        ")"
      ],
      "execution_count": 69,
      "outputs": [
        {
          "output_type": "stream",
          "text": [
            "train: 1/25: 100%|███████████████████████████| 937/937 [00:06<00:00, 142.19it/s]\n",
            "Test: 100%|██████████████████████████████████| 157/157 [00:00<00:00, 221.39it/s]\n",
            "train: 2/25:   0%|                                      | 0/937 [00:00<?, ?it/s]"
          ],
          "name": "stderr"
        },
        {
          "output_type": "stream",
          "text": [
            "Test acc: 90.93%\n"
          ],
          "name": "stdout"
        },
        {
          "output_type": "stream",
          "text": [
            "train: 2/25: 100%|███████████████████████████| 937/937 [00:06<00:00, 139.14it/s]\n",
            "Test: 100%|██████████████████████████████████| 157/157 [00:00<00:00, 216.90it/s]\n",
            "train: 3/25:   0%|                                      | 0/937 [00:00<?, ?it/s]"
          ],
          "name": "stderr"
        },
        {
          "output_type": "stream",
          "text": [
            "Test acc: 92.27%\n"
          ],
          "name": "stdout"
        },
        {
          "output_type": "stream",
          "text": [
            "train: 3/25: 100%|███████████████████████████| 937/937 [00:06<00:00, 141.49it/s]\n",
            "Test: 100%|██████████████████████████████████| 157/157 [00:00<00:00, 226.07it/s]\n",
            "train: 4/25:   0%|                                      | 0/937 [00:00<?, ?it/s]"
          ],
          "name": "stderr"
        },
        {
          "output_type": "stream",
          "text": [
            "Test acc: 93.09%\n"
          ],
          "name": "stdout"
        },
        {
          "output_type": "stream",
          "text": [
            "train: 4/25: 100%|███████████████████████████| 937/937 [00:06<00:00, 142.84it/s]\n",
            "Test: 100%|██████████████████████████████████| 157/157 [00:00<00:00, 225.29it/s]\n",
            "train: 5/25:   0%|                                      | 0/937 [00:00<?, ?it/s]"
          ],
          "name": "stderr"
        },
        {
          "output_type": "stream",
          "text": [
            "Test acc: 93.52%\n"
          ],
          "name": "stdout"
        },
        {
          "output_type": "stream",
          "text": [
            "train: 5/25: 100%|███████████████████████████| 937/937 [00:06<00:00, 141.83it/s]\n",
            "Test: 100%|██████████████████████████████████| 157/157 [00:00<00:00, 223.56it/s]\n",
            "train: 6/25:   0%|                                      | 0/937 [00:00<?, ?it/s]"
          ],
          "name": "stderr"
        },
        {
          "output_type": "stream",
          "text": [
            "Test acc: 93.88%\n"
          ],
          "name": "stdout"
        },
        {
          "output_type": "stream",
          "text": [
            "train: 6/25: 100%|███████████████████████████| 937/937 [00:06<00:00, 141.99it/s]\n",
            "Test: 100%|██████████████████████████████████| 157/157 [00:00<00:00, 225.47it/s]\n",
            "train: 7/25:   0%|                                      | 0/937 [00:00<?, ?it/s]"
          ],
          "name": "stderr"
        },
        {
          "output_type": "stream",
          "text": [
            "Test acc: 94.25%\n"
          ],
          "name": "stdout"
        },
        {
          "output_type": "stream",
          "text": [
            "train: 7/25: 100%|███████████████████████████| 937/937 [00:06<00:00, 143.43it/s]\n",
            "Test: 100%|██████████████████████████████████| 157/157 [00:00<00:00, 227.08it/s]\n",
            "train: 8/25:   0%|                                      | 0/937 [00:00<?, ?it/s]"
          ],
          "name": "stderr"
        },
        {
          "output_type": "stream",
          "text": [
            "Test acc: 94.44%\n"
          ],
          "name": "stdout"
        },
        {
          "output_type": "stream",
          "text": [
            "train: 8/25: 100%|███████████████████████████| 937/937 [00:06<00:00, 144.41it/s]\n",
            "Test: 100%|██████████████████████████████████| 157/157 [00:00<00:00, 227.95it/s]\n",
            "train: 9/25:   0%|                                      | 0/937 [00:00<?, ?it/s]"
          ],
          "name": "stderr"
        },
        {
          "output_type": "stream",
          "text": [
            "Test acc: 94.73%\n"
          ],
          "name": "stdout"
        },
        {
          "output_type": "stream",
          "text": [
            "train: 9/25: 100%|███████████████████████████| 937/937 [00:06<00:00, 143.28it/s]\n",
            "Test: 100%|██████████████████████████████████| 157/157 [00:00<00:00, 224.49it/s]\n",
            "train: 10/25:   0%|                                     | 0/937 [00:00<?, ?it/s]"
          ],
          "name": "stderr"
        },
        {
          "output_type": "stream",
          "text": [
            "Test acc: 94.71%\n"
          ],
          "name": "stdout"
        },
        {
          "output_type": "stream",
          "text": [
            "train: 10/25: 100%|██████████████████████████| 937/937 [00:06<00:00, 144.14it/s]\n",
            "Test: 100%|██████████████████████████████████| 157/157 [00:00<00:00, 219.59it/s]\n",
            "train: 11/25:   0%|                                     | 0/937 [00:00<?, ?it/s]"
          ],
          "name": "stderr"
        },
        {
          "output_type": "stream",
          "text": [
            "Test acc: 94.91%\n"
          ],
          "name": "stdout"
        },
        {
          "output_type": "stream",
          "text": [
            "train: 11/25: 100%|██████████████████████████| 937/937 [00:06<00:00, 141.28it/s]\n",
            "Test: 100%|██████████████████████████████████| 157/157 [00:00<00:00, 225.11it/s]\n",
            "train: 12/25:   0%|                                     | 0/937 [00:00<?, ?it/s]"
          ],
          "name": "stderr"
        },
        {
          "output_type": "stream",
          "text": [
            "Test acc: 94.94%\n"
          ],
          "name": "stdout"
        },
        {
          "output_type": "stream",
          "text": [
            "train: 12/25: 100%|██████████████████████████| 937/937 [00:06<00:00, 143.52it/s]\n",
            "Test: 100%|██████████████████████████████████| 157/157 [00:00<00:00, 225.49it/s]\n",
            "train: 13/25:   0%|                                     | 0/937 [00:00<?, ?it/s]"
          ],
          "name": "stderr"
        },
        {
          "output_type": "stream",
          "text": [
            "Test acc: 95.17%\n"
          ],
          "name": "stdout"
        },
        {
          "output_type": "stream",
          "text": [
            "train: 13/25: 100%|██████████████████████████| 937/937 [00:06<00:00, 139.30it/s]\n",
            "Test: 100%|██████████████████████████████████| 157/157 [00:00<00:00, 222.32it/s]\n",
            "train: 14/25:   0%|                                     | 0/937 [00:00<?, ?it/s]"
          ],
          "name": "stderr"
        },
        {
          "output_type": "stream",
          "text": [
            "Test acc: 95.25%\n"
          ],
          "name": "stdout"
        },
        {
          "output_type": "stream",
          "text": [
            "train: 14/25: 100%|██████████████████████████| 937/937 [00:06<00:00, 140.96it/s]\n",
            "Test: 100%|██████████████████████████████████| 157/157 [00:00<00:00, 221.58it/s]\n",
            "train: 15/25:   0%|                                     | 0/937 [00:00<?, ?it/s]"
          ],
          "name": "stderr"
        },
        {
          "output_type": "stream",
          "text": [
            "Test acc: 95.34%\n"
          ],
          "name": "stdout"
        },
        {
          "output_type": "stream",
          "text": [
            "train: 15/25: 100%|██████████████████████████| 937/937 [00:06<00:00, 141.96it/s]\n",
            "Test: 100%|██████████████████████████████████| 157/157 [00:00<00:00, 223.56it/s]\n",
            "train: 16/25:   0%|                                     | 0/937 [00:00<?, ?it/s]"
          ],
          "name": "stderr"
        },
        {
          "output_type": "stream",
          "text": [
            "Test acc: 95.41%\n"
          ],
          "name": "stdout"
        },
        {
          "output_type": "stream",
          "text": [
            "train: 16/25: 100%|██████████████████████████| 937/937 [00:06<00:00, 142.30it/s]\n",
            "Test: 100%|██████████████████████████████████| 157/157 [00:00<00:00, 222.42it/s]\n",
            "train: 17/25:   0%|                                     | 0/937 [00:00<?, ?it/s]"
          ],
          "name": "stderr"
        },
        {
          "output_type": "stream",
          "text": [
            "Test acc: 95.39%\n"
          ],
          "name": "stdout"
        },
        {
          "output_type": "stream",
          "text": [
            "train: 17/25: 100%|██████████████████████████| 937/937 [00:06<00:00, 143.23it/s]\n",
            "Test: 100%|██████████████████████████████████| 157/157 [00:00<00:00, 222.87it/s]\n",
            "train: 18/25:   0%|                                     | 0/937 [00:00<?, ?it/s]"
          ],
          "name": "stderr"
        },
        {
          "output_type": "stream",
          "text": [
            "Test acc: 95.49%\n"
          ],
          "name": "stdout"
        },
        {
          "output_type": "stream",
          "text": [
            "train: 18/25: 100%|██████████████████████████| 937/937 [00:06<00:00, 141.86it/s]\n",
            "Test: 100%|██████████████████████████████████| 157/157 [00:00<00:00, 225.84it/s]\n",
            "train: 19/25:   0%|                                     | 0/937 [00:00<?, ?it/s]"
          ],
          "name": "stderr"
        },
        {
          "output_type": "stream",
          "text": [
            "Test acc: 95.52%\n"
          ],
          "name": "stdout"
        },
        {
          "output_type": "stream",
          "text": [
            "train: 19/25: 100%|██████████████████████████| 937/937 [00:06<00:00, 140.22it/s]\n",
            "Test: 100%|██████████████████████████████████| 157/157 [00:00<00:00, 226.60it/s]\n",
            "train: 20/25:   0%|                                     | 0/937 [00:00<?, ?it/s]"
          ],
          "name": "stderr"
        },
        {
          "output_type": "stream",
          "text": [
            "Test acc: 95.53%\n"
          ],
          "name": "stdout"
        },
        {
          "output_type": "stream",
          "text": [
            "train: 20/25: 100%|██████████████████████████| 937/937 [00:06<00:00, 141.70it/s]\n",
            "Test: 100%|██████████████████████████████████| 157/157 [00:00<00:00, 223.98it/s]\n",
            "train: 21/25:   0%|                                     | 0/937 [00:00<?, ?it/s]"
          ],
          "name": "stderr"
        },
        {
          "output_type": "stream",
          "text": [
            "Test acc: 95.58%\n"
          ],
          "name": "stdout"
        },
        {
          "output_type": "stream",
          "text": [
            "train: 21/25: 100%|██████████████████████████| 937/937 [00:06<00:00, 143.04it/s]\n",
            "Test: 100%|██████████████████████████████████| 157/157 [00:00<00:00, 220.57it/s]\n",
            "train: 22/25:   0%|                                     | 0/937 [00:00<?, ?it/s]"
          ],
          "name": "stderr"
        },
        {
          "output_type": "stream",
          "text": [
            "Test acc: 95.62%\n"
          ],
          "name": "stdout"
        },
        {
          "output_type": "stream",
          "text": [
            "train: 22/25: 100%|██████████████████████████| 937/937 [00:06<00:00, 142.49it/s]\n",
            "Test: 100%|██████████████████████████████████| 157/157 [00:00<00:00, 224.55it/s]\n",
            "train: 23/25:   0%|                                     | 0/937 [00:00<?, ?it/s]"
          ],
          "name": "stderr"
        },
        {
          "output_type": "stream",
          "text": [
            "Test acc: 95.69%\n"
          ],
          "name": "stdout"
        },
        {
          "output_type": "stream",
          "text": [
            "train: 23/25: 100%|██████████████████████████| 937/937 [00:06<00:00, 140.41it/s]\n",
            "Test: 100%|██████████████████████████████████| 157/157 [00:00<00:00, 222.25it/s]\n",
            "train: 24/25:   0%|                                     | 0/937 [00:00<?, ?it/s]"
          ],
          "name": "stderr"
        },
        {
          "output_type": "stream",
          "text": [
            "Test acc: 95.66%\n"
          ],
          "name": "stdout"
        },
        {
          "output_type": "stream",
          "text": [
            "train: 24/25: 100%|██████████████████████████| 937/937 [00:06<00:00, 138.82it/s]\n",
            "Test: 100%|██████████████████████████████████| 157/157 [00:00<00:00, 221.02it/s]\n",
            "train: 25/25:   0%|                                     | 0/937 [00:00<?, ?it/s]"
          ],
          "name": "stderr"
        },
        {
          "output_type": "stream",
          "text": [
            "Test acc: 95.64%\n"
          ],
          "name": "stdout"
        },
        {
          "output_type": "stream",
          "text": [
            "train: 25/25: 100%|██████████████████████████| 937/937 [00:06<00:00, 141.31it/s]\n",
            "Test: 100%|██████████████████████████████████| 157/157 [00:00<00:00, 226.63it/s]"
          ],
          "name": "stderr"
        },
        {
          "output_type": "stream",
          "text": [
            "Test acc: 95.68%\n",
            "FCNet200(\n",
            "  (model): Sequential(\n",
            "    (0): Linear(in_features=784, out_features=200, bias=True)\n",
            "    (1): LeakyReLU(negative_slope=0.1, inplace=True)\n",
            "    (2): Linear(in_features=200, out_features=150, bias=True)\n",
            "    (3): LeakyReLU(negative_slope=0.1, inplace=True)\n",
            "    (4): Linear(in_features=150, out_features=10, bias=True)\n",
            "  )\n",
            ")\n"
          ],
          "name": "stdout"
        },
        {
          "output_type": "stream",
          "text": [
            "\n"
          ],
          "name": "stderr"
        }
      ]
    },
    {
      "cell_type": "code",
      "metadata": {
        "id": "HYNzh-iYCRLw",
        "colab_type": "code",
        "colab": {
          "base_uri": "https://localhost:8080/",
          "height": 121
        },
        "outputId": "84c919cf-6db0-43ab-a8b4-fcd29f763b32"
      },
      "source": [
        "cross_model_labels = []\n",
        "for xr in xr_imgs:\n",
        "    label = logits_to_label(model2(xr.unsqueeze(0).to(config.device))).item()\n",
        "    cross_model_labels.append(label)\n",
        "cross_model_labels = np.array(cross_model_labels).reshape(4, 4)\n",
        "\n",
        "print(f\"Cross Model Adverserial Predictions:\\n{cross_model_labels}\")\n",
        "print(f\"Attack Success: {(cross_model_labels == xr_labels).sum() / N:.2%}\")"
      ],
      "execution_count": 70,
      "outputs": [
        {
          "output_type": "stream",
          "text": [
            "Cross Model Adverserial Predictions:\n",
            "[[8 8 8 8]\n",
            " [8 8 8 8]\n",
            " [8 8 8 8]\n",
            " [8 8 8 8]]\n",
            "Attack Success: 100.00%\n"
          ],
          "name": "stdout"
        }
      ]
    },
    {
      "cell_type": "markdown",
      "metadata": {
        "id": "rsp39biZCRL1",
        "colab_type": "text"
      },
      "source": [
        "**Bonus: Try experimenting with the second model's architecture to see if it affects the attack\n",
        "success rate.**"
      ]
    },
    {
      "cell_type": "code",
      "metadata": {
        "id": "wJUdBrMFCRL2",
        "colab_type": "code",
        "colab": {}
      },
      "source": [
        ""
      ],
      "execution_count": 0,
      "outputs": []
    },
    {
      "cell_type": "markdown",
      "metadata": {
        "id": "U7zuNMmFCRL7",
        "colab_type": "text"
      },
      "source": [
        "### Part 2: Fast Gradient Sign Method (Optional)\n",
        "\n",
        "This section implements the [Fast Gradient Sign Method](https://arxiv.org/abs/1412.6572), which is a fast alternative method for finding adversarial examples.  It is untargeted, in the sense that unlike the section above, you don't get to choose what your image gets classified as.\n",
        "\n",
        "The following cell is group of helper functions."
      ]
    },
    {
      "cell_type": "code",
      "metadata": {
        "id": "J0VLq_ECCRL8",
        "colab_type": "code",
        "colab": {}
      },
      "source": [
        "device = torch.device(\"cuda\" if torch.cuda.is_available() else \"cpu\")\n",
        "\n",
        "def load_dataset(torchvision_dataset):\n",
        "    save_dir = \"./data\"\n",
        "    transform_list = [transforms.ToTensor()]\n",
        "    transform = transforms.Compose(transform_list)\n",
        "    kwargs = {\n",
        "        \"download\": True,\n",
        "        \"transform\": transform,\n",
        "    }\n",
        "    train = torchvision_dataset(save_dir, train=True, **kwargs)\n",
        "    test = torchvision_dataset(save_dir, train=False, **kwargs)\n",
        "    return train, test\n",
        "\n",
        "\n",
        "def resize_dataset(dataset, dataset_len=None):\n",
        "    if dataset_len is None:\n",
        "        return dataset\n",
        "    assert 0 <= dataset_len <= len(dataset)\n",
        "    ignored_len = len(dataset) - dataset_len\n",
        "    sizes = (dataset_len, ignored_len)\n",
        "    dataset, ignored = random_split(dataset, sizes)\n",
        "    return dataset\n",
        "\n",
        "\n",
        "def make_batches(train, test, batch_size=100):\n",
        "    assert 1 <= batch_size <= len(test)\n",
        "    kwargs = {\n",
        "        \"batch_size\": batch_size,\n",
        "        \"shuffle\": True,\n",
        "    }\n",
        "    train_loader = DataLoader(train, **kwargs)\n",
        "    test_loader = DataLoader(test, **kwargs)\n",
        "    return train_loader, test_loader\n",
        "    \n",
        "def train_model(model, device, train_loader, optimizer, criterion, num_epochs=1):\n",
        "    for epoch in range(num_epochs):\n",
        "        print(\"Training Epoch\", epoch)\n",
        "        for i, (images, targets) in enumerate(train_loader):\n",
        "            images = images.to(device)\n",
        "            targets = targets.to(device)\n",
        "\n",
        "            # Forward\n",
        "            outputs = model(images)\n",
        "\n",
        "            # Backward\n",
        "            optimizer.zero_grad()\n",
        "            loss = criterion(outputs, targets)\n",
        "            loss.backward()\n",
        "            optimizer.step()\n",
        "\n",
        "def test_model(model, device, test_loader):\n",
        "    correct = 0\n",
        "    total = 0\n",
        "    for i, (images, targets) in enumerate(test_loader):\n",
        "        images = images.to(device)\n",
        "        targets = targets.to(device)\n",
        "\n",
        "        # Forward\n",
        "        outputs = model(images)\n",
        "\n",
        "        # Prediction\n",
        "        predicted = torch.argmax(outputs, 1)\n",
        "        total += targets.size(0)\n",
        "        correct += (predicted == targets).sum().item()\n",
        "\n",
        "    accuracy = 100 * correct / total\n",
        "    return accuracy"
      ],
      "execution_count": 0,
      "outputs": []
    },
    {
      "cell_type": "markdown",
      "metadata": {
        "id": "V_-PDytfCRMA",
        "colab_type": "text"
      },
      "source": [
        "### Model Definition\n",
        "This is our convolutional network that we use to train both our adversarial and non-adversarial models."
      ]
    },
    {
      "cell_type": "code",
      "metadata": {
        "id": "AG3qDG9-CRMB",
        "colab_type": "code",
        "colab": {}
      },
      "source": [
        "class Conv_Net(nn.Module):\n",
        "    def __init__(self, in_height, in_width, num_targets):\n",
        "        super().__init__()\n",
        "        # Convolutional parameters\n",
        "        kernel_size = 4\n",
        "        stride = 1\n",
        "\n",
        "        # Pool layer and its parameters\n",
        "        pool_kernel_size = 2\n",
        "        pool_stride = pool_kernel_size # When these values are the same it reduces the image by half\n",
        "        self.pool = nn.MaxPool2d(pool_kernel_size, pool_stride)\n",
        "\n",
        "        in_channels_2 = 1\n",
        "        out_channels_2 = 10\n",
        "        self.conv2 = nn.Conv2d(\n",
        "            in_channels_2,\n",
        "            out_channels_2, \n",
        "            kernel_size=kernel_size, \n",
        "            stride=stride, \n",
        "        )\n",
        "        self.bn2 = nn.BatchNorm2d(out_channels_2)\n",
        "\n",
        "        self.conv2_height = height - kernel_size + 1\n",
        "        self.conv2_width = width - kernel_size + 1\n",
        "        self.conv2_size = self.conv2_height * self.conv2_width * out_channels_2\n",
        "\n",
        "        self.pool1_height = int(self.conv2_height / pool_kernel_size)\n",
        "        self.pool1_width = int(self.conv2_height / pool_kernel_size)\n",
        "        self.pool1_size = self.pool1_height * self.pool1_width * out_channels_2\n",
        "\n",
        "        out_channels_3 = 10\n",
        "        self.conv3 = nn.Conv2d(\n",
        "            out_channels_2, \n",
        "            out_channels_3, \n",
        "            kernel_size=kernel_size, \n",
        "            stride=stride, \n",
        "        )\n",
        "        self.bn3 = nn.BatchNorm2d(out_channels_3)\n",
        "\n",
        "        self.conv3_height = self.pool1_height - kernel_size + 1\n",
        "        self.conv3_width = self.pool1_width - kernel_size + 1\n",
        "        self.conv3_size = self.conv3_height * self.conv3_width * out_channels_3\n",
        "\n",
        "        self.pool2_height = int(self.conv3_height / pool_kernel_size)\n",
        "        self.pool2_width = int(self.conv3_height / pool_kernel_size)\n",
        "        self.pool2_size = self.pool2_height * self.pool2_width * out_channels_2\n",
        "\n",
        "        in_features_4 = self.pool2_size\n",
        "        out_features_4 = int(in_features_4 / 2)\n",
        "        self.fc1 = nn.Linear(in_features_4, out_features_4)\n",
        "        self.bn4 = nn.BatchNorm1d(out_features_4)\n",
        "\n",
        "        out_features_5 = int(out_features_4 / 2)\n",
        "        self.fc2 = nn.Linear(out_features_4, out_features_5)\n",
        "        self.bn5 = nn.BatchNorm1d(out_features_5)\n",
        "\n",
        "        self.fc3 = nn.Linear(out_features_5, num_targets)\n",
        "\n",
        "    def forward(self, x):\n",
        "        # First convolution and pooling\n",
        "        x = self.conv2(x)\n",
        "        x = F.relu(x)\n",
        "        x = self.pool(x)\n",
        "        x = self.bn2(x)\n",
        "\n",
        "        # Second convolution and pooling\n",
        "        x = self.conv3(x)\n",
        "        x = F.relu(x)\n",
        "        x = self.pool(x)\n",
        "        x = self.bn3(x)\n",
        "\n",
        "        # Flattening convolutional layer for fully connected layer\n",
        "        batch_size = -1\n",
        "        x = x.view(batch_size, self.pool2_size) # This value was calculated in __init__\n",
        "\n",
        "        # First fcl\n",
        "        x = self.fc1(x)\n",
        "        x = F.relu(x)\n",
        "        x = self.bn4(x)\n",
        "\n",
        "        # Second fcl\n",
        "        x = self.fc2(x)\n",
        "        x = F.relu(x)\n",
        "        x = self.bn5(x)\n",
        "       \n",
        "        # Output fcl\n",
        "        x = self.fc3(x)   \n",
        "        x = F.log_softmax(x, dim=1)\n",
        "        return x"
      ],
      "execution_count": 0,
      "outputs": []
    },
    {
      "cell_type": "markdown",
      "metadata": {
        "id": "N5coemFeCRMH",
        "colab_type": "text"
      },
      "source": [
        "### Non-adversarial Model"
      ]
    },
    {
      "cell_type": "code",
      "metadata": {
        "id": "dqXdllSwCRMI",
        "colab_type": "code",
        "colab": {
          "base_uri": "https://localhost:8080/",
          "height": 208
        },
        "outputId": "54e5d734-ad44-4b35-84cb-99278c2bd493"
      },
      "source": [
        "# Load data\n",
        "torchvision_dataset = datasets.MNIST\n",
        "train, test = load_dataset(torchvision_dataset)\n",
        "\n",
        "# Find dimensions\n",
        "height, width = train.data[0].shape\n",
        "num_targets = len(set(train.targets.numpy()))\n",
        "\n",
        "# Setting the size to \"None\" will use all instances\n",
        "train_len, test_len = 8000, 2000\n",
        "train = resize_dataset(train, train_len)\n",
        "test = resize_dataset(test, test_len)\n",
        "\n",
        "# Batch\n",
        "batch_size = 100\n",
        "train_loader, test_loader = make_batches(train, test, batch_size)\n",
        "\n",
        "# Make model\n",
        "good_model = Conv_Net(height, width, num_targets).to(device)\n",
        "\n",
        "# Optimizer\n",
        "learning_rate = 0.001\n",
        "optimizer = optim.Adam(good_model.parameters(), lr = learning_rate)\n",
        "\n",
        "# Criterion\n",
        "criterion = nn.CrossEntropyLoss()\n",
        "\n",
        "# Train\n",
        "num_epochs = 10\n",
        "train_model(good_model, device, train_loader, optimizer, criterion, num_epochs)\n",
        "\n",
        "# Test\n",
        "accuracy = test_model(good_model, device, test_loader)\n",
        "print(f\"Original Accuracy: {accuracy} %\")"
      ],
      "execution_count": 73,
      "outputs": [
        {
          "output_type": "stream",
          "text": [
            "Training Epoch 0\n",
            "Training Epoch 1\n",
            "Training Epoch 2\n",
            "Training Epoch 3\n",
            "Training Epoch 4\n",
            "Training Epoch 5\n",
            "Training Epoch 6\n",
            "Training Epoch 7\n",
            "Training Epoch 8\n",
            "Training Epoch 9\n",
            "Original Accuracy: 97.55 %\n"
          ],
          "name": "stdout"
        }
      ]
    },
    {
      "cell_type": "markdown",
      "metadata": {
        "id": "y_V3ixLfCRMM",
        "colab_type": "text"
      },
      "source": [
        "### Adversarial parameters"
      ]
    },
    {
      "cell_type": "code",
      "metadata": {
        "id": "31kSpNz2CRMM",
        "colab_type": "code",
        "colab": {}
      },
      "source": [
        "learning_rate = 0.001\n",
        "# This is the length of the epsilon_list you are going to create. If your list is longer or shorter you must reflect that change in this variable.\n",
        "num_epsilons = 5 \n",
        "\n",
        "# Make a list of epsilon values for the attack\n",
        "epsilon_list = [i / (num_epsilons * 2) for i in range(num_epsilons)]\n",
        "\n",
        "# This is storage for samples from our adversarial model.\n",
        "examples = {\n",
        "    epsilon: {\n",
        "        \"original_images\": [],\n",
        "        \"adversarial_images\": [],\n",
        "        \"original_predictions\": [],\n",
        "        \"adversarial_predictions\": []\n",
        "    }\n",
        "    for epsilon in epsilon_list\n",
        "}"
      ],
      "execution_count": 0,
      "outputs": []
    },
    {
      "cell_type": "markdown",
      "metadata": {
        "id": "zKtTsEW1CRMQ",
        "colab_type": "text"
      },
      "source": [
        "Q: Below you will set the clamp min and max values on the line \"torch.clamp(perturbated_images, clamp_min, clamp_max)\". Why do we need to clamp and what would the effect of using a value outside the range be?\n",
        "\n",
        "A:\n",
        "    \n",
        "Q: This is very subtle. Why are we adding our perturbations instead of subtracting them? The goal should be to go in the opposite direction of the gradient. How is addition moving us uphill?\n",
        "\n",
        "A:"
      ]
    },
    {
      "cell_type": "markdown",
      "metadata": {
        "id": "flDpZIYfCRMR",
        "colab_type": "text"
      },
      "source": [
        "### Adversarial Model"
      ]
    },
    {
      "cell_type": "code",
      "metadata": {
        "id": "1LaiQEKICRMS",
        "colab_type": "code",
        "colab": {
          "base_uri": "https://localhost:8080/",
          "height": 131
        },
        "outputId": "88e87061-078a-483d-c31e-9e1410b07b1c"
      },
      "source": [
        "for epsilon in epsilon_list:\n",
        "    print(f\"Epsilon: {epsilon}\")\n",
        "    \n",
        "    # Train Attack model\n",
        "    attack_model = Conv_Net(height, width, num_targets).to(device)\n",
        "\n",
        "    optimizer = optim.Adam(attack_model.parameters(), lr = learning_rate)\n",
        "    criterion = nn.CrossEntropyLoss()\n",
        "\n",
        "    train_model(attack_model, device, train_loader, optimizer, criterion, num_epochs)\n",
        "    pre_attack_accuracy = test_model(attack_model, device, test_loader)\n",
        "    print(f\"Pre-attack Accuracy: {pre_attack_accuracy} %\")\n",
        "\n",
        "    correct = 0\n",
        "    total = 0\n",
        "    sample = True \n",
        "    \n",
        "    for i, (images, targets) in enumerate(test_loader):\n",
        "        images = images.to(device)\n",
        "        # Enable finding gradient w.r.t the inputs.\n",
        "        images.requires_grad = True \n",
        "        targets = targets.to(device)\n",
        "\n",
        "        # Forward\n",
        "        outputs = attack_model(images)\n",
        "        predicted = torch.argmax(outputs, 1)\n",
        "\n",
        "        # Backward\n",
        "        optimizer.zero_grad()\n",
        "        loss = criterion(outputs, targets)\n",
        "        loss.backward()\n",
        "\n",
        "        image_grad = images.grad \n",
        "\n",
        "        grad_sign = image_grad.sign()\n",
        "        perturbation = ???\n",
        "        perturbed_images = ???\n",
        "        clamp_min = ???\n",
        "        clamp_max = ??? # TODO\n",
        "        perturbed_images = torch.clamp(perturbed_images, clamp_min, clamp_max)\n",
        "\n",
        "        attack_output = attack_model(perturbed_images)\n",
        "        attack_predicted = torch.argmax(attack_output, 1)\n",
        "        \n",
        "        total += targets.size(0)\n",
        "        correct += (attack_predicted == targets).sum().item()\n",
        "        \n",
        "        if sample:\n",
        "            sample = False\n",
        "            \n",
        "            with torch.no_grad():\n",
        "                examples[epsilon][\"original_images\"] = images.cpu().numpy()[:num_epsilons]\n",
        "                examples[epsilon][\"adversarial_images\"] = perturbed_images.cpu().numpy()[:num_epsilons]\n",
        "                examples[epsilon][\"original_predictions\"] = predicted.cpu().numpy()[:num_epsilons]\n",
        "                examples[epsilon][\"adversarial_predictions\"] = attack_predicted.cpu().numpy()[:num_epsilons]\n",
        "            \n",
        "        \n",
        "    post_attack_accuracy = correct / total * 100\n",
        "    print(f\"Post-attack Accuracy: {post_attack_accuracy} %\")\n",
        "    print()"
      ],
      "execution_count": 75,
      "outputs": [
        {
          "output_type": "error",
          "ename": "SyntaxError",
          "evalue": "ignored",
          "traceback": [
            "\u001b[0;36m  File \u001b[0;32m\"<ipython-input-75-3ce0bc229fe9>\"\u001b[0;36m, line \u001b[0;32m36\u001b[0m\n\u001b[0;31m    perturbation = ???\u001b[0m\n\u001b[0m                   ^\u001b[0m\n\u001b[0;31mSyntaxError\u001b[0m\u001b[0;31m:\u001b[0m invalid syntax\n"
          ]
        }
      ]
    },
    {
      "cell_type": "markdown",
      "metadata": {
        "id": "QHPMXvFoCRMX",
        "colab_type": "text"
      },
      "source": [
        "Q: If you were a real attacker that relied on misclassification, how would you deal with the cases where the class was retained?\n",
        "\n",
        "A:\n",
        "\n",
        "Q: Go back and look at where we set grad_sign. If we had multiplied the gradient instead of the gradient sign by the epsilon value our performance would not be as high. Why?\n",
        "\n",
        "A:\n",
        "\n",
        "Q: Our purturbations depended on the gradient of the image. Why is the gradient necessary as opposed to some non-gradient dependent function the input image?\n",
        "\n",
        "A:\n",
        "\n",
        "Q: You can misclassify an image by just mutating it. What is the point of this model? \n",
        "\n",
        "A:"
      ]
    },
    {
      "cell_type": "markdown",
      "metadata": {
        "id": "sXVlsNG0CRMY",
        "colab_type": "text"
      },
      "source": [
        "### Plot sample of adversarial images"
      ]
    },
    {
      "cell_type": "code",
      "metadata": {
        "id": "72J9a10NCRMZ",
        "colab_type": "code",
        "colab": {}
      },
      "source": [
        "plot_dim = 10, 12\n",
        "plt.figure(figsize=plot_dim)\n",
        "\n",
        "plot_index = 1\n",
        "for row in range(num_epsilons):\n",
        "    for column in range(num_epsilons):\n",
        "        plt.subplot(num_epsilons, num_epsilons, plot_index)\n",
        "\n",
        "        plt.xticks([], [])\n",
        "        plt.yticks([], [])\n",
        "\n",
        "        epsilon = epsilon_list[row]\n",
        "        if column == 0:\n",
        "            plt.ylabel(\"Eps: {}\".format(epsilon), fontsize=14)\n",
        "\n",
        "        adversarial_image = examples[epsilon][\"adversarial_images\"][column].squeeze()\n",
        "        original_prediction = examples[epsilon][\"original_predictions\"][column].item()\n",
        "        adversarial_prediction = examples[epsilon][\"adversarial_predictions\"][column].item()\n",
        "\n",
        "        plt.title(\"{} -> {}\".format(original_prediction, adversarial_prediction))\n",
        "        plt.imshow(adversarial_image, cmap=\"gray\")\n",
        "\n",
        "        plot_index += 1\n",
        "plt.tight_layout()\n",
        "plt.show()"
      ],
      "execution_count": 0,
      "outputs": []
    },
    {
      "cell_type": "markdown",
      "metadata": {
        "id": "jGy9mVlTCRMd",
        "colab_type": "text"
      },
      "source": [
        "### Part 2: Bonus\n",
        "Plot just the purturbations. You can modify the code from the cell above but put the new plotting code in this cell below so that both copies are retained."
      ]
    }
  ]
}